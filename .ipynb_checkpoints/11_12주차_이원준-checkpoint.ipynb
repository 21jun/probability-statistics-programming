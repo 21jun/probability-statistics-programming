{
 "cells": [
  {
   "cell_type": "markdown",
   "metadata": {},
   "source": [
    "## 문제1"
   ]
  },
  {
   "cell_type": "code",
   "execution_count": 9,
   "metadata": {},
   "outputs": [],
   "source": [
    "library(prob)\n",
    "library(MASS)"
   ]
  },
  {
   "cell_type": "code",
   "execution_count": 3,
   "metadata": {},
   "outputs": [
    {
     "data": {
      "text/html": [
       "<table>\n",
       "<thead><tr><th scope=col>X1</th></tr></thead>\n",
       "<tbody>\n",
       "\t<tr><td>1</td></tr>\n",
       "\t<tr><td>2</td></tr>\n",
       "\t<tr><td>3</td></tr>\n",
       "\t<tr><td>4</td></tr>\n",
       "\t<tr><td>5</td></tr>\n",
       "\t<tr><td>6</td></tr>\n",
       "</tbody>\n",
       "</table>\n"
      ],
      "text/latex": [
       "\\begin{tabular}{r|l}\n",
       " X1\\\\\n",
       "\\hline\n",
       "\t 1\\\\\n",
       "\t 2\\\\\n",
       "\t 3\\\\\n",
       "\t 4\\\\\n",
       "\t 5\\\\\n",
       "\t 6\\\\\n",
       "\\end{tabular}\n"
      ],
      "text/markdown": [
       "\n",
       "| X1 |\n",
       "|---|\n",
       "| 1 |\n",
       "| 2 |\n",
       "| 3 |\n",
       "| 4 |\n",
       "| 5 |\n",
       "| 6 |\n",
       "\n"
      ],
      "text/plain": [
       "  X1\n",
       "1 1 \n",
       "2 2 \n",
       "3 3 \n",
       "4 4 \n",
       "5 5 \n",
       "6 6 "
      ]
     },
     "metadata": {},
     "output_type": "display_data"
    }
   ],
   "source": [
    "S <- rolldie(1) ; S"
   ]
  },
  {
   "cell_type": "code",
   "execution_count": 6,
   "metadata": {},
   "outputs": [
    {
     "data": {
      "text/html": [
       "<table>\n",
       "<thead><tr><th scope=col>X1</th></tr></thead>\n",
       "<tbody>\n",
       "\t<tr><td>4</td></tr>\n",
       "\t<tr><td>1</td></tr>\n",
       "\t<tr><td>0</td></tr>\n",
       "\t<tr><td>1</td></tr>\n",
       "\t<tr><td>4</td></tr>\n",
       "\t<tr><td>9</td></tr>\n",
       "</tbody>\n",
       "</table>\n"
      ],
      "text/latex": [
       "\\begin{tabular}{r|l}\n",
       " X1\\\\\n",
       "\\hline\n",
       "\t 4\\\\\n",
       "\t 1\\\\\n",
       "\t 0\\\\\n",
       "\t 1\\\\\n",
       "\t 4\\\\\n",
       "\t 9\\\\\n",
       "\\end{tabular}\n"
      ],
      "text/markdown": [
       "\n",
       "| X1 |\n",
       "|---|\n",
       "| 4 |\n",
       "| 1 |\n",
       "| 0 |\n",
       "| 1 |\n",
       "| 4 |\n",
       "| 9 |\n",
       "\n"
      ],
      "text/plain": [
       "  X1\n",
       "1 4 \n",
       "2 1 \n",
       "3 0 \n",
       "4 1 \n",
       "5 4 \n",
       "6 9 "
      ]
     },
     "metadata": {},
     "output_type": "display_data"
    }
   ],
   "source": [
    "X <- (S-3)^2; X"
   ]
  },
  {
   "cell_type": "code",
   "execution_count": 7,
   "metadata": {},
   "outputs": [],
   "source": [
    "EX <- sum(X) / nrow(X)"
   ]
  },
  {
   "cell_type": "code",
   "execution_count": 10,
   "metadata": {},
   "outputs": [
    {
     "data": {
      "text/html": [
       "19/6"
      ],
      "text/latex": [
       "19/6"
      ],
      "text/markdown": [
       "19/6"
      ],
      "text/plain": [
       "[1] 19/6"
      ]
     },
     "metadata": {},
     "output_type": "display_data"
    }
   ],
   "source": [
    "as.fractions(EX)"
   ]
  },
  {
   "cell_type": "markdown",
   "metadata": {},
   "source": [
    "## 문제2"
   ]
  },
  {
   "cell_type": "code",
   "execution_count": 14,
   "metadata": {},
   "outputs": [],
   "source": [
    "fx1 <- function(x) 2*(1-x)\n",
    "fx2 <- function(x) 2*(1-x^2)"
   ]
  },
  {
   "cell_type": "code",
   "execution_count": 15,
   "metadata": {},
   "outputs": [
    {
     "data": {
      "text/plain": [
       "1 with absolute error < 1.1e-14"
      ]
     },
     "metadata": {},
     "output_type": "display_data"
    }
   ],
   "source": [
    "EX <- integrate(fx1, 0, 1); EX"
   ]
  },
  {
   "cell_type": "code",
   "execution_count": 16,
   "metadata": {},
   "outputs": [
    {
     "data": {
      "text/plain": [
       "1 with absolute error < 1.1e-14"
      ]
     },
     "metadata": {},
     "output_type": "display_data"
    }
   ],
   "source": [
    "EXX <- integrate(fx2, 0, 1); EX"
   ]
  },
  {
   "cell_type": "code",
   "execution_count": 19,
   "metadata": {},
   "outputs": [
    {
     "data": {
      "text/html": [
       "10"
      ],
      "text/latex": [
       "10"
      ],
      "text/markdown": [
       "10"
      ],
      "text/plain": [
       "[1] 10"
      ]
     },
     "metadata": {},
     "output_type": "display_data"
    }
   ],
   "source": [
    "# 6 E(X) + 3 E(X^2)\n",
    "\n",
    "6 * EX$value + 3 * EXX$value"
   ]
  },
  {
   "cell_type": "markdown",
   "metadata": {},
   "source": [
    "## 문제3"
   ]
  },
  {
   "cell_type": "code",
   "execution_count": 75,
   "metadata": {},
   "outputs": [],
   "source": [
    "p <- 1/5"
   ]
  },
  {
   "cell_type": "code",
   "execution_count": 83,
   "metadata": {},
   "outputs": [],
   "source": [
    "fx <- function(x) {\n",
    "    com = ncol(combn(5,x))\n",
    "    if (x==0 | x==5){\n",
    "        com = 1\n",
    "    }\n",
    "    return (com * p^x * (1-p)^(5-x))\n",
    "}"
   ]
  },
  {
   "cell_type": "code",
   "execution_count": 84,
   "metadata": {},
   "outputs": [
    {
     "data": {
      "text/html": [
       "<table>\n",
       "<thead><tr><th scope=col>X</th></tr></thead>\n",
       "<tbody>\n",
       "\t<tr><td>0</td></tr>\n",
       "\t<tr><td>1</td></tr>\n",
       "\t<tr><td>2</td></tr>\n",
       "\t<tr><td>3</td></tr>\n",
       "\t<tr><td>4</td></tr>\n",
       "\t<tr><td>5</td></tr>\n",
       "</tbody>\n",
       "</table>\n"
      ],
      "text/latex": [
       "\\begin{tabular}{r|l}\n",
       " X\\\\\n",
       "\\hline\n",
       "\t 0\\\\\n",
       "\t 1\\\\\n",
       "\t 2\\\\\n",
       "\t 3\\\\\n",
       "\t 4\\\\\n",
       "\t 5\\\\\n",
       "\\end{tabular}\n"
      ],
      "text/markdown": [
       "\n",
       "| X |\n",
       "|---|\n",
       "| 0 |\n",
       "| 1 |\n",
       "| 2 |\n",
       "| 3 |\n",
       "| 4 |\n",
       "| 5 |\n",
       "\n"
      ],
      "text/plain": [
       "  X\n",
       "1 0\n",
       "2 1\n",
       "3 2\n",
       "4 3\n",
       "5 4\n",
       "6 5"
      ]
     },
     "metadata": {},
     "output_type": "display_data"
    }
   ],
   "source": [
    "S <- data.frame(X=c(0:5)); S"
   ]
  },
  {
   "cell_type": "code",
   "execution_count": 85,
   "metadata": {},
   "outputs": [
    {
     "name": "stderr",
     "output_type": "stream",
     "text": [
      "Warning message in combn(5, x):\n",
      "\"Argument m has 6 elements: only the first used\"Warning message in if (x == 0 | x == 5) {:\n",
      "\"length > 1 이라는 조건이 있고, 첫번째 요소만이 사용될 것입니다\""
     ]
    }
   ],
   "source": [
    "S$prob = fx(S$X)"
   ]
  },
  {
   "cell_type": "code",
   "execution_count": 86,
   "metadata": {},
   "outputs": [
    {
     "data": {
      "text/html": [
       "<table>\n",
       "<thead><tr><th scope=col>X</th><th scope=col>prob</th></tr></thead>\n",
       "<tbody>\n",
       "\t<tr><td>0      </td><td>0.32768</td></tr>\n",
       "\t<tr><td>1      </td><td>0.08192</td></tr>\n",
       "\t<tr><td>2      </td><td>0.02048</td></tr>\n",
       "\t<tr><td>3      </td><td>0.00512</td></tr>\n",
       "\t<tr><td>4      </td><td>0.00128</td></tr>\n",
       "\t<tr><td>5      </td><td>0.00032</td></tr>\n",
       "</tbody>\n",
       "</table>\n"
      ],
      "text/latex": [
       "\\begin{tabular}{r|ll}\n",
       " X & prob\\\\\n",
       "\\hline\n",
       "\t 0       & 0.32768\\\\\n",
       "\t 1       & 0.08192\\\\\n",
       "\t 2       & 0.02048\\\\\n",
       "\t 3       & 0.00512\\\\\n",
       "\t 4       & 0.00128\\\\\n",
       "\t 5       & 0.00032\\\\\n",
       "\\end{tabular}\n"
      ],
      "text/markdown": [
       "\n",
       "| X | prob |\n",
       "|---|---|\n",
       "| 0       | 0.32768 |\n",
       "| 1       | 0.08192 |\n",
       "| 2       | 0.02048 |\n",
       "| 3       | 0.00512 |\n",
       "| 4       | 0.00128 |\n",
       "| 5       | 0.00032 |\n",
       "\n"
      ],
      "text/plain": [
       "  X prob   \n",
       "1 0 0.32768\n",
       "2 1 0.08192\n",
       "3 2 0.02048\n",
       "4 3 0.00512\n",
       "5 4 0.00128\n",
       "6 5 0.00032"
      ]
     },
     "metadata": {},
     "output_type": "display_data"
    }
   ],
   "source": [
    "S"
   ]
  },
  {
   "cell_type": "code",
   "execution_count": 89,
   "metadata": {},
   "outputs": [
    {
     "data": {
      "text/html": [
       "0.14496"
      ],
      "text/latex": [
       "0.14496"
      ],
      "text/markdown": [
       "0.14496"
      ],
      "text/plain": [
       "[1] 0.14496"
      ]
     },
     "metadata": {},
     "output_type": "display_data"
    }
   ],
   "source": [
    "EX = sum(S$X * S$prob); EX"
   ]
  },
  {
   "cell_type": "code",
   "execution_count": 91,
   "metadata": {},
   "outputs": [],
   "source": [
    "VX <- sum( (S$X-EX )^2 * S$prob )"
   ]
  },
  {
   "cell_type": "code",
   "execution_count": 92,
   "metadata": {},
   "outputs": [
    {
     "data": {
      "text/html": [
       "0.20555185061888"
      ],
      "text/latex": [
       "0.20555185061888"
      ],
      "text/markdown": [
       "0.20555185061888"
      ],
      "text/plain": [
       "[1] 0.2055519"
      ]
     },
     "metadata": {},
     "output_type": "display_data"
    }
   ],
   "source": [
    "VX"
   ]
  },
  {
   "cell_type": "code",
   "execution_count": 94,
   "metadata": {},
   "outputs": [
    {
     "data": {
      "text/html": [
       "0.32768"
      ],
      "text/latex": [
       "0.32768"
      ],
      "text/markdown": [
       "0.32768"
      ],
      "text/plain": [
       "[1] 0.32768"
      ]
     },
     "metadata": {},
     "output_type": "display_data"
    }
   ],
   "source": [
    "dbinom(0,5,1/5)"
   ]
  },
  {
   "cell_type": "markdown",
   "metadata": {},
   "source": [
    "## 문제4"
   ]
  },
  {
   "cell_type": "code",
   "execution_count": null,
   "metadata": {},
   "outputs": [],
   "source": [
    "p = 0.01"
   ]
  }
 ],
 "metadata": {
  "kernelspec": {
   "display_name": "R",
   "language": "R",
   "name": "ir"
  },
  "language_info": {
   "codemirror_mode": "r",
   "file_extension": ".r",
   "mimetype": "text/x-r-source",
   "name": "R",
   "pygments_lexer": "r",
   "version": "3.6.1"
  }
 },
 "nbformat": 4,
 "nbformat_minor": 2
}
