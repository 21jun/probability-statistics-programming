{
 "cells": [
  {
   "cell_type": "markdown",
   "metadata": {},
   "source": [
    "# 확률통계 프로그래밍\n",
    "\n",
    "## 중간고사 대체 온라인 과제\n",
    "\n",
    "> 17011675 이원준\n",
    "\n",
    "<hr>"
   ]
  },
  {
   "cell_type": "markdown",
   "metadata": {},
   "source": [
    "## [문제1] (15점) diamonds는 패키지(package) “ggplot2”에 내장되어 있는 데이터이다."
   ]
  },
  {
   "cell_type": "markdown",
   "metadata": {},
   "source": [
    "### (1) 10개의 변수에서 ‘cut’에 대한 막대그래프(Bar Chart)를 예쁘게 R로 작성하여라."
   ]
  },
  {
   "cell_type": "markdown",
   "metadata": {},
   "source": [
    "그래프를 그리기 위해서 `ggplot2`를 사용하고, \n",
    "\n",
    "예쁜 색상을 이용하기 위해 `RColorBrewer`를 사용하였다."
   ]
  },
  {
   "cell_type": "code",
   "execution_count": 1,
   "metadata": {},
   "outputs": [
    {
     "name": "stderr",
     "output_type": "stream",
     "text": [
      "Warning message:\n",
      "\"package 'ggplot2' was built under R version 3.6.2\"\n"
     ]
    }
   ],
   "source": [
    "library(ggplot2)\n",
    "library(RColorBrewer)"
   ]
  },
  {
   "cell_type": "code",
   "execution_count": 2,
   "metadata": {},
   "outputs": [
    {
     "data": {
      "image/png": "[encoded data removed]",
      "text/plain": [
       "Plot with title \"Cut\""
      ]
     },
     "metadata": {
      "image/png": {
       "height": 420,
       "width": 420
      },
      "text/plain": {
       "height": 420,
       "width": 420
      }
     },
     "output_type": "display_data"
    }
   ],
   "source": [
    "coul <- brewer.pal(length(levels(diamonds$cut)), \"Set2\") \n",
    "barplot(table(diamonds$cut),\n",
    "        horiz=T,\n",
    "        col=coul,\n",
    "        main='Cut')"
   ]
  },
  {
   "cell_type": "markdown",
   "metadata": {},
   "source": [
    "### (2) clarity에 대한 원형그래프(Pie Chart)를 예쁘게 꾸며 보세요."
   ]
  },
  {
   "cell_type": "code",
   "execution_count": 3,
   "metadata": {},
   "outputs": [
    {
     "data": {
      "image/png": "[encoded data removed]",
      "text/plain": [
       "Plot with title \"Clarity\""
      ]
     },
     "metadata": {
      "image/png": {
       "height": 420,
       "width": 420
      },
      "text/plain": {
       "height": 420,
       "width": 420
      }
     },
     "output_type": "display_data"
    }
   ],
   "source": [
    "coul <- brewer.pal(length(levels(diamonds$clarity)), \"Set2\") \n",
    "pie(table(diamonds$clarity),\n",
    "    col=coul,\n",
    "    main='Clarity',\n",
    "   )"
   ]
  },
  {
   "cell_type": "markdown",
   "metadata": {},
   "source": [
    "## [문제2] (15점) MASS 패키지에 내장된 iris 데이터는 Sepal.Length(꽃받침의 길이), Sepal.Width(꽃받침의 폭), Petal.Length(꽃잎의 길이), Petal.Width(꽃잎의 폭)이라는 4개의 연속형 변수와 Species(품종)이라는 명목형(이산형) 변수가 있다."
   ]
  },
  {
   "cell_type": "markdown",
   "metadata": {},
   "source": [
    "### (1) iris 데이터에서 Sepal.Length의 줄기-잎 그림(Stem-and-Leaf plot)을 나타내어라."
   ]
  },
  {
   "cell_type": "code",
   "execution_count": 4,
   "metadata": {},
   "outputs": [
    {
     "name": "stderr",
     "output_type": "stream",
     "text": [
      "Warning message:\n",
      "\"package 'MASS' was built under R version 3.6.2\"\n"
     ]
    }
   ],
   "source": [
    "library(MASS)"
   ]
  },
  {
   "cell_type": "code",
   "execution_count": 5,
   "metadata": {},
   "outputs": [
    {
     "name": "stdout",
     "output_type": "stream",
     "text": [
      "\n",
      "  The decimal point is 1 digit(s) to the left of the |\n",
      "\n",
      "  42 | 0\n",
      "  44 | 0000\n",
      "  46 | 000000\n",
      "  48 | 00000000000\n",
      "  50 | 0000000000000000000\n",
      "  52 | 00000\n",
      "  54 | 0000000000000\n",
      "  56 | 00000000000000\n",
      "  58 | 0000000000\n",
      "  60 | 000000000000\n",
      "  62 | 0000000000000\n",
      "  64 | 000000000000\n",
      "  66 | 0000000000\n",
      "  68 | 0000000\n",
      "  70 | 00\n",
      "  72 | 0000\n",
      "  74 | 0\n",
      "  76 | 00000\n",
      "  78 | 0\n",
      "\n"
     ]
    }
   ],
   "source": [
    "stem(iris$Sepal.Length)"
   ]
  },
  {
   "cell_type": "markdown",
   "metadata": {},
   "source": [
    "### (2) iris 데이터에서 Sepal.Width의 상자그림(Box Plot)을 나타내어라."
   ]
  },
  {
   "cell_type": "code",
   "execution_count": 6,
   "metadata": {},
   "outputs": [
    {
     "data": {
      "text/html": [
       "<style>\n",
       ".dl-inline {width: auto; margin:0; padding: 0}\n",
       ".dl-inline>dt, .dl-inline>dd {float: none; width: auto; display: inline-block}\n",
       ".dl-inline>dt::after {content: \":\\0020\"; padding-right: .5ex}\n",
       ".dl-inline>dt:not(:first-of-type) {padding-left: .5ex}\n",
       "</style><dl class=dl-inline><dt>0%</dt><dd>2</dd><dt>25%</dt><dd>2.8</dd><dt>50%</dt><dd>3</dd><dt>75%</dt><dd>3.3</dd><dt>100%</dt><dd>4.4</dd></dl>\n"
      ],
      "text/latex": [
       "\\begin{description*}\n",
       "\\item[0\\textbackslash{}\\%] 2\n",
       "\\item[25\\textbackslash{}\\%] 2.8\n",
       "\\item[50\\textbackslash{}\\%] 3\n",
       "\\item[75\\textbackslash{}\\%] 3.3\n",
       "\\item[100\\textbackslash{}\\%] 4.4\n",
       "\\end{description*}\n"
      ],
      "text/markdown": [
       "0%\n",
       ":   225%\n",
       ":   2.850%\n",
       ":   375%\n",
       ":   3.3100%\n",
       ":   4.4\n",
       "\n"
      ],
      "text/plain": [
       "  0%  25%  50%  75% 100% \n",
       " 2.0  2.8  3.0  3.3  4.4 "
      ]
     },
     "metadata": {},
     "output_type": "display_data"
    },
    {
     "data": {
      "text/html": [
       "0.5"
      ],
      "text/latex": [
       "0.5"
      ],
      "text/markdown": [
       "0.5"
      ],
      "text/plain": [
       "[1] 0.5"
      ]
     },
     "metadata": {},
     "output_type": "display_data"
    }
   ],
   "source": [
    "quantile(iris$Sepal.Width)\n",
    "IQR(iris$Sepal.Width)"
   ]
  },
  {
   "cell_type": "code",
   "execution_count": 7,
   "metadata": {},
   "outputs": [
    {
     "data": {
      "text/html": [
       "<style>\n",
       ".list-inline {list-style: none; margin:0; padding: 0}\n",
       ".list-inline>li {display: inline-block}\n",
       ".list-inline>li:not(:last-child)::after {content: \"\\00b7\"; padding: 0 .5ex}\n",
       "</style>\n",
       "<ol class=list-inline><li>3.5</li><li>3</li><li>3.2</li><li>3.1</li><li>3.6</li><li>3.9</li><li>3.4</li><li>3.4</li><li>2.9</li><li>3.1</li><li>3.7</li><li>3.4</li><li>3</li><li>3</li><li>4</li><li>4.4</li><li>3.9</li><li>3.5</li><li>3.8</li><li>3.8</li><li>3.4</li><li>3.7</li><li>3.6</li><li>3.3</li><li>3.4</li><li>3</li><li>3.4</li><li>3.5</li><li>3.4</li><li>3.2</li><li>3.1</li><li>3.4</li><li>4.1</li><li>4.2</li><li>3.1</li><li>3.2</li><li>3.5</li><li>3.6</li><li>3</li><li>3.4</li><li>3.5</li><li>2.3</li><li>3.2</li><li>3.5</li><li>3.8</li><li>3</li><li>3.8</li><li>3.2</li><li>3.7</li><li>3.3</li><li>3.2</li><li>3.2</li><li>3.1</li><li>2.3</li><li>2.8</li><li>2.8</li><li>3.3</li><li>2.4</li><li>2.9</li><li>2.7</li><li>2</li><li>3</li><li>2.2</li><li>2.9</li><li>2.9</li><li>3.1</li><li>3</li><li>2.7</li><li>2.2</li><li>2.5</li><li>3.2</li><li>2.8</li><li>2.5</li><li>2.8</li><li>2.9</li><li>3</li><li>2.8</li><li>3</li><li>2.9</li><li>2.6</li><li>2.4</li><li>2.4</li><li>2.7</li><li>2.7</li><li>3</li><li>3.4</li><li>3.1</li><li>2.3</li><li>3</li><li>2.5</li><li>2.6</li><li>3</li><li>2.6</li><li>2.3</li><li>2.7</li><li>3</li><li>2.9</li><li>2.9</li><li>2.5</li><li>2.8</li><li>3.3</li><li>2.7</li><li>3</li><li>2.9</li><li>3</li><li>3</li><li>2.5</li><li>2.9</li><li>2.5</li><li>3.6</li><li>3.2</li><li>2.7</li><li>3</li><li>2.5</li><li>2.8</li><li>3.2</li><li>3</li><li>3.8</li><li>2.6</li><li>2.2</li><li>3.2</li><li>2.8</li><li>2.8</li><li>2.7</li><li>3.3</li><li>3.2</li><li>2.8</li><li>3</li><li>2.8</li><li>3</li><li>2.8</li><li>3.8</li><li>2.8</li><li>2.8</li><li>2.6</li><li>3</li><li>3.4</li><li>3.1</li><li>3</li><li>3.1</li><li>3.1</li><li>3.1</li><li>2.7</li><li>3.2</li><li>3.3</li><li>3</li><li>2.5</li><li>3</li><li>3.4</li><li>3</li></ol>\n"
      ],
      "text/latex": [
       "\\begin{enumerate*}\n",
       "\\item 3.5\n",
       "\\item 3\n",
       "\\item 3.2\n",
       "\\item 3.1\n",
       "\\item 3.6\n",
       "\\item 3.9\n",
       "\\item 3.4\n",
       "\\item 3.4\n",
       "\\item 2.9\n",
       "\\item 3.1\n",
       "\\item 3.7\n",
       "\\item 3.4\n",
       "\\item 3\n",
       "\\item 3\n",
       "\\item 4\n",
       "\\item 4.4\n",
       "\\item 3.9\n",
       "\\item 3.5\n",
       "\\item 3.8\n",
       "\\item 3.8\n",
       "\\item 3.4\n",
       "\\item 3.7\n",
       "\\item 3.6\n",
       "\\item 3.3\n",
       "\\item 3.4\n",
       "\\item 3\n",
       "\\item 3.4\n",
       "\\item 3.5\n",
       "\\item 3.4\n",
       "\\item 3.2\n",
       "\\item 3.1\n",
       "\\item 3.4\n",
       "\\item 4.1\n",
       "\\item 4.2\n",
       "\\item 3.1\n",
       "\\item 3.2\n",
       "\\item 3.5\n",
       "\\item 3.6\n",
       "\\item 3\n",
       "\\item 3.4\n",
       "\\item 3.5\n",
       "\\item 2.3\n",
       "\\item 3.2\n",
       "\\item 3.5\n",
       "\\item 3.8\n",
       "\\item 3\n",
       "\\item 3.8\n",
       "\\item 3.2\n",
       "\\item 3.7\n",
       "\\item 3.3\n",
       "\\item 3.2\n",
       "\\item 3.2\n",
       "\\item 3.1\n",
       "\\item 2.3\n",
       "\\item 2.8\n",
       "\\item 2.8\n",
       "\\item 3.3\n",
       "\\item 2.4\n",
       "\\item 2.9\n",
       "\\item 2.7\n",
       "\\item 2\n",
       "\\item 3\n",
       "\\item 2.2\n",
       "\\item 2.9\n",
       "\\item 2.9\n",
       "\\item 3.1\n",
       "\\item 3\n",
       "\\item 2.7\n",
       "\\item 2.2\n",
       "\\item 2.5\n",
       "\\item 3.2\n",
       "\\item 2.8\n",
       "\\item 2.5\n",
       "\\item 2.8\n",
       "\\item 2.9\n",
       "\\item 3\n",
       "\\item 2.8\n",
       "\\item 3\n",
       "\\item 2.9\n",
       "\\item 2.6\n",
       "\\item 2.4\n",
       "\\item 2.4\n",
       "\\item 2.7\n",
       "\\item 2.7\n",
       "\\item 3\n",
       "\\item 3.4\n",
       "\\item 3.1\n",
       "\\item 2.3\n",
       "\\item 3\n",
       "\\item 2.5\n",
       "\\item 2.6\n",
       "\\item 3\n",
       "\\item 2.6\n",
       "\\item 2.3\n",
       "\\item 2.7\n",
       "\\item 3\n",
       "\\item 2.9\n",
       "\\item 2.9\n",
       "\\item 2.5\n",
       "\\item 2.8\n",
       "\\item 3.3\n",
       "\\item 2.7\n",
       "\\item 3\n",
       "\\item 2.9\n",
       "\\item 3\n",
       "\\item 3\n",
       "\\item 2.5\n",
       "\\item 2.9\n",
       "\\item 2.5\n",
       "\\item 3.6\n",
       "\\item 3.2\n",
       "\\item 2.7\n",
       "\\item 3\n",
       "\\item 2.5\n",
       "\\item 2.8\n",
       "\\item 3.2\n",
       "\\item 3\n",
       "\\item 3.8\n",
       "\\item 2.6\n",
       "\\item 2.2\n",
       "\\item 3.2\n",
       "\\item 2.8\n",
       "\\item 2.8\n",
       "\\item 2.7\n",
       "\\item 3.3\n",
       "\\item 3.2\n",
       "\\item 2.8\n",
       "\\item 3\n",
       "\\item 2.8\n",
       "\\item 3\n",
       "\\item 2.8\n",
       "\\item 3.8\n",
       "\\item 2.8\n",
       "\\item 2.8\n",
       "\\item 2.6\n",
       "\\item 3\n",
       "\\item 3.4\n",
       "\\item 3.1\n",
       "\\item 3\n",
       "\\item 3.1\n",
       "\\item 3.1\n",
       "\\item 3.1\n",
       "\\item 2.7\n",
       "\\item 3.2\n",
       "\\item 3.3\n",
       "\\item 3\n",
       "\\item 2.5\n",
       "\\item 3\n",
       "\\item 3.4\n",
       "\\item 3\n",
       "\\end{enumerate*}\n"
      ],
      "text/markdown": [
       "1. 3.5\n",
       "2. 3\n",
       "3. 3.2\n",
       "4. 3.1\n",
       "5. 3.6\n",
       "6. 3.9\n",
       "7. 3.4\n",
       "8. 3.4\n",
       "9. 2.9\n",
       "10. 3.1\n",
       "11. 3.7\n",
       "12. 3.4\n",
       "13. 3\n",
       "14. 3\n",
       "15. 4\n",
       "16. 4.4\n",
       "17. 3.9\n",
       "18. 3.5\n",
       "19. 3.8\n",
       "20. 3.8\n",
       "21. 3.4\n",
       "22. 3.7\n",
       "23. 3.6\n",
       "24. 3.3\n",
       "25. 3.4\n",
       "26. 3\n",
       "27. 3.4\n",
       "28. 3.5\n",
       "29. 3.4\n",
       "30. 3.2\n",
       "31. 3.1\n",
       "32. 3.4\n",
       "33. 4.1\n",
       "34. 4.2\n",
       "35. 3.1\n",
       "36. 3.2\n",
       "37. 3.5\n",
       "38. 3.6\n",
       "39. 3\n",
       "40. 3.4\n",
       "41. 3.5\n",
       "42. 2.3\n",
       "43. 3.2\n",
       "44. 3.5\n",
       "45. 3.8\n",
       "46. 3\n",
       "47. 3.8\n",
       "48. 3.2\n",
       "49. 3.7\n",
       "50. 3.3\n",
       "51. 3.2\n",
       "52. 3.2\n",
       "53. 3.1\n",
       "54. 2.3\n",
       "55. 2.8\n",
       "56. 2.8\n",
       "57. 3.3\n",
       "58. 2.4\n",
       "59. 2.9\n",
       "60. 2.7\n",
       "61. 2\n",
       "62. 3\n",
       "63. 2.2\n",
       "64. 2.9\n",
       "65. 2.9\n",
       "66. 3.1\n",
       "67. 3\n",
       "68. 2.7\n",
       "69. 2.2\n",
       "70. 2.5\n",
       "71. 3.2\n",
       "72. 2.8\n",
       "73. 2.5\n",
       "74. 2.8\n",
       "75. 2.9\n",
       "76. 3\n",
       "77. 2.8\n",
       "78. 3\n",
       "79. 2.9\n",
       "80. 2.6\n",
       "81. 2.4\n",
       "82. 2.4\n",
       "83. 2.7\n",
       "84. 2.7\n",
       "85. 3\n",
       "86. 3.4\n",
       "87. 3.1\n",
       "88. 2.3\n",
       "89. 3\n",
       "90. 2.5\n",
       "91. 2.6\n",
       "92. 3\n",
       "93. 2.6\n",
       "94. 2.3\n",
       "95. 2.7\n",
       "96. 3\n",
       "97. 2.9\n",
       "98. 2.9\n",
       "99. 2.5\n",
       "100. 2.8\n",
       "101. 3.3\n",
       "102. 2.7\n",
       "103. 3\n",
       "104. 2.9\n",
       "105. 3\n",
       "106. 3\n",
       "107. 2.5\n",
       "108. 2.9\n",
       "109. 2.5\n",
       "110. 3.6\n",
       "111. 3.2\n",
       "112. 2.7\n",
       "113. 3\n",
       "114. 2.5\n",
       "115. 2.8\n",
       "116. 3.2\n",
       "117. 3\n",
       "118. 3.8\n",
       "119. 2.6\n",
       "120. 2.2\n",
       "121. 3.2\n",
       "122. 2.8\n",
       "123. 2.8\n",
       "124. 2.7\n",
       "125. 3.3\n",
       "126. 3.2\n",
       "127. 2.8\n",
       "128. 3\n",
       "129. 2.8\n",
       "130. 3\n",
       "131. 2.8\n",
       "132. 3.8\n",
       "133. 2.8\n",
       "134. 2.8\n",
       "135. 2.6\n",
       "136. 3\n",
       "137. 3.4\n",
       "138. 3.1\n",
       "139. 3\n",
       "140. 3.1\n",
       "141. 3.1\n",
       "142. 3.1\n",
       "143. 2.7\n",
       "144. 3.2\n",
       "145. 3.3\n",
       "146. 3\n",
       "147. 2.5\n",
       "148. 3\n",
       "149. 3.4\n",
       "150. 3\n",
       "\n",
       "\n"
      ],
      "text/plain": [
       "  [1] 3.5 3.0 3.2 3.1 3.6 3.9 3.4 3.4 2.9 3.1 3.7 3.4 3.0 3.0 4.0 4.4 3.9 3.5\n",
       " [19] 3.8 3.8 3.4 3.7 3.6 3.3 3.4 3.0 3.4 3.5 3.4 3.2 3.1 3.4 4.1 4.2 3.1 3.2\n",
       " [37] 3.5 3.6 3.0 3.4 3.5 2.3 3.2 3.5 3.8 3.0 3.8 3.2 3.7 3.3 3.2 3.2 3.1 2.3\n",
       " [55] 2.8 2.8 3.3 2.4 2.9 2.7 2.0 3.0 2.2 2.9 2.9 3.1 3.0 2.7 2.2 2.5 3.2 2.8\n",
       " [73] 2.5 2.8 2.9 3.0 2.8 3.0 2.9 2.6 2.4 2.4 2.7 2.7 3.0 3.4 3.1 2.3 3.0 2.5\n",
       " [91] 2.6 3.0 2.6 2.3 2.7 3.0 2.9 2.9 2.5 2.8 3.3 2.7 3.0 2.9 3.0 3.0 2.5 2.9\n",
       "[109] 2.5 3.6 3.2 2.7 3.0 2.5 2.8 3.2 3.0 3.8 2.6 2.2 3.2 2.8 2.8 2.7 3.3 3.2\n",
       "[127] 2.8 3.0 2.8 3.0 2.8 3.8 2.8 2.8 2.6 3.0 3.4 3.1 3.0 3.1 3.1 3.1 2.7 3.2\n",
       "[145] 3.3 3.0 2.5 3.0 3.4 3.0"
      ]
     },
     "metadata": {},
     "output_type": "display_data"
    }
   ],
   "source": [
    "iris$Sepal.Width"
   ]
  },
  {
   "cell_type": "code",
   "execution_count": 8,
   "metadata": {},
   "outputs": [
    {
     "data": {
      "image/png": "[encoded data removed]",
      "text/plain": [
       "plot without title"
      ]
     },
     "metadata": {
      "image/png": {
       "height": 420,
       "width": 420
      },
      "text/plain": {
       "height": 420,
       "width": 420
      }
     },
     "output_type": "display_data"
    }
   ],
   "source": [
    "coul <- brewer.pal(3, \"Set2\")\n",
    "boxplot(iris$Sepal.Width, \n",
    "        horizontal=T, \n",
    "        col=coul)\n",
    "points(iris$Sepal.Width, rep(1, length(iris$Sepal.Width)), )"
   ]
  },
  {
   "cell_type": "markdown",
   "metadata": {},
   "source": [
    "### (3) iris 데이터에서 Petal.Length의 히스토그램(histogram)을 나타내어라. 여기서 계급의 수는 Freedman-Diaconis' choice을 사용한다. 즉, 사분위수 범위(IQR, inter-quartile range)를 이용한 방법이다."
   ]
  },
  {
   "cell_type": "code",
   "execution_count": 9,
   "metadata": {},
   "outputs": [
    {
     "data": {
      "image/png": "[encoded data removed]",
      "text/plain": [
       "Plot with title \"Histogram of iris$Petal.Length\""
      ]
     },
     "metadata": {
      "image/png": {
       "height": 420,
       "width": 420
      },
      "text/plain": {
       "height": 420,
       "width": 420
      }
     },
     "output_type": "display_data"
    }
   ],
   "source": [
    "coul <- brewer.pal(nclass.FD(iris$Petal.Length) + 1, \"Set2\") \n",
    "hist(iris$Petal.Length,\n",
    "     nclass=nclass.FD(iris$Petal.Length),\n",
    "     col=coul)"
   ]
  },
  {
   "cell_type": "code",
   "execution_count": 10,
   "metadata": {},
   "outputs": [
    {
     "data": {
      "image/png": "[encoded data removed]",
      "text/plain": [
       "Plot with title \"Histogram of iris$Petal.Length\""
      ]
     },
     "metadata": {
      "image/png": {
       "height": 420,
       "width": 420
      },
      "text/plain": {
       "height": 420,
       "width": 420
      }
     },
     "output_type": "display_data"
    }
   ],
   "source": [
    "# 더 간단한 방법. (breaks=\"FD\")\n",
    "hist(iris$Petal.Length,\n",
    "     breaks = \"FD\",\n",
    "     col=coul)"
   ]
  },
  {
   "cell_type": "markdown",
   "metadata": {},
   "source": [
    "## [문제3] (70점) (자유주제) 지금까지 학습한 내용 중에서 하나의 테마(주제)를 선정하여 심화 응용, 또는 확장된 내용을 작성하시오. "
   ]
  },
  {
   "cell_type": "markdown",
   "metadata": {},
   "source": [
    "데이터 주소 : https://www.data.go.kr/data/15003493/fileData.do"
   ]
  },
  {
   "cell_type": "code",
   "execution_count": 11,
   "metadata": {},
   "outputs": [],
   "source": [
    "# 사용할 데이터를 불러온다.\n",
    "df <- read.csv(\"도로교통공단_교통사고다발지역_20191010.csv\")"
   ]
  },
  {
   "cell_type": "code",
   "execution_count": 12,
   "metadata": {},
   "outputs": [
    {
     "name": "stdout",
     "output_type": "stream",
     "text": [
      "'data.frame':\t10365 obs. of  16 variables:\n",
      " $ 사고지역관리번호      : int  2013060 2013060 2013060 2013060 2013060 2013060 2013060 2013060 2013060 2013060 ...\n",
      " $ 사고년도              : int  2012 2012 2012 2012 2012 2012 2012 2012 2012 2012 ...\n",
      " $ 사고유형구분          : Factor w/ 5 levels \"무단횡단\",\"보행노인\",..: 4 4 4 4 4 4 4 4 4 4 ...\n",
      " $ 위치코드              : int  11110001 11290001 11290002 11290003 11320001 11350001 11530001 11530002 11710001 26290001 ...\n",
      " $ 시도시군구명          : Factor w/ 2014 levels \"강원 강릉1\",\"강원 강릉2\",..: 1534 1431 1440 1441 1363 1351 1333 1337 1448 1034 ...\n",
      " $ 사고지역위치명        : Factor w/ 8568 levels \"강원도 강릉시 강동면(등명낙가사 부근)\",..: 6685 6028 5974 5988 5412 5292 5128 5132 6113 4064 ...\n",
      " $ 발생건수              : int  2 2 2 3 2 2 2 2 2 2 ...\n",
      " $ 사상자수              : int  2 2 2 3 2 2 3 2 2 2 ...\n",
      " $ 사망자수              : int  0 0 0 0 0 1 0 0 0 0 ...\n",
      " $ 중상자수              : int  1 0 2 2 0 1 1 1 0 1 ...\n",
      " $ 경상자수              : int  1 1 0 1 2 0 0 1 2 1 ...\n",
      " $ 부상자수              : int  0 1 0 0 0 0 2 0 0 0 ...\n",
      " $ 위도                  : num  37.6 37.6 37.6 37.6 37.6 ...\n",
      " $ 경도                  : num  127 127 127 127 127 ...\n",
      " $ 사고다발지역폴리곤정보: Factor w/ 10322 levels \"{type:Polygon,coordinates:[[[126.25921497,34.48198466],[126.25918045,34.48169574],[126.25907821,34.48141792],[1\"| __truncated__,..: 3582 4193 3765 4659 3967 4603 1780 1623 5519 9791 ...\n",
      " $ 데이터기준일자        : Factor w/ 1 level \"2019-10-10\": 1 1 1 1 1 1 1 1 1 1 ...\n"
     ]
    }
   ],
   "source": [
    "# 불러온 데이터프레임을 살펴보자.\n",
    "str(df)"
   ]
  },
  {
   "cell_type": "markdown",
   "metadata": {},
   "source": [
    "위치 데이터는 사용하지 않을 것이므로 제거하고,\n",
    "\n",
    "불필요한 컬럼이 너무 많기 때문에 `사상자수` 중에서  `사망자수` 만 살펴보기로 결정했다."
   ]
  },
  {
   "cell_type": "code",
   "execution_count": 13,
   "metadata": {},
   "outputs": [],
   "source": [
    "# 사용할 컬럼만 남기기\n",
    "keep <- c(\"사고년도\", \"사고유형구분\", \"위치코드\", \"시도시군구명\", \"사고지역위치명\", \"발생건수\", \"사상자수\", \"사망자수\")\n",
    "df <- df[keep]"
   ]
  },
  {
   "cell_type": "code",
   "execution_count": 15,
   "metadata": {},
   "outputs": [
    {
     "name": "stderr",
     "output_type": "stream",
     "text": [
      "Warning message in rbind(c(\"서울특별시\", \"종로구1\"), c(\"서울특별시\", \"성북구1\"), :\n",
      "\"number of columns of result is not a multiple of vector length (arg 1)\"\n"
     ]
    }
   ],
   "source": [
    "# 시도시군구명을 분리하여 행정구역을 얻어내자.\n",
    "local <- data.frame(do.call('rbind', strsplit(as.character(df$\"시도시군구명\"), split=\" \")))[\"X1\"]\n",
    "names(local) <- c(\"시도\")"
   ]
  },
  {
   "cell_type": "code",
   "execution_count": 17,
   "metadata": {},
   "outputs": [],
   "source": [
    "df <- cbind(df, local)"
   ]
  },
  {
   "cell_type": "code",
   "execution_count": 18,
   "metadata": {},
   "outputs": [
    {
     "data": {
      "text/html": [
       "<style>\n",
       ".list-inline {list-style: none; margin:0; padding: 0}\n",
       ".list-inline>li {display: inline-block}\n",
       ".list-inline>li:not(:last-child)::after {content: \"\\00b7\"; padding: 0 .5ex}\n",
       "</style>\n",
       "<ol class=list-inline><li>'강원'</li><li>'강원도'</li><li>'경기'</li><li>'경기도'</li><li>'경남'</li><li>'경북'</li><li>'경상남도'</li><li>'경상북도'</li><li>'광주'</li><li>'광주광역시'</li><li>'대구'</li><li>'대구광역시'</li><li>'대전'</li><li>'대전광역시'</li><li>'부산'</li><li>'부산광역시'</li><li>'서울'</li><li>'서울특별시'</li><li>'세종특별자치시'</li><li>'울산'</li><li>'울산광역시'</li><li>'인천'</li><li>'인천광역시'</li><li>'전남'</li><li>'전라남도'</li><li>'전라북도'</li><li>'전북'</li><li>'제주'</li><li>'제주특별자치도'</li><li>'충남'</li><li>'충북'</li><li>'충청남도'</li><li>'충청북도'</li></ol>\n"
      ],
      "text/latex": [
       "\\begin{enumerate*}\n",
       "\\item '강원'\n",
       "\\item '강원도'\n",
       "\\item '경기'\n",
       "\\item '경기도'\n",
       "\\item '경남'\n",
       "\\item '경북'\n",
       "\\item '경상남도'\n",
       "\\item '경상북도'\n",
       "\\item '광주'\n",
       "\\item '광주광역시'\n",
       "\\item '대구'\n",
       "\\item '대구광역시'\n",
       "\\item '대전'\n",
       "\\item '대전광역시'\n",
       "\\item '부산'\n",
       "\\item '부산광역시'\n",
       "\\item '서울'\n",
       "\\item '서울특별시'\n",
       "\\item '세종특별자치시'\n",
       "\\item '울산'\n",
       "\\item '울산광역시'\n",
       "\\item '인천'\n",
       "\\item '인천광역시'\n",
       "\\item '전남'\n",
       "\\item '전라남도'\n",
       "\\item '전라북도'\n",
       "\\item '전북'\n",
       "\\item '제주'\n",
       "\\item '제주특별자치도'\n",
       "\\item '충남'\n",
       "\\item '충북'\n",
       "\\item '충청남도'\n",
       "\\item '충청북도'\n",
       "\\end{enumerate*}\n"
      ],
      "text/markdown": [
       "1. '강원'\n",
       "2. '강원도'\n",
       "3. '경기'\n",
       "4. '경기도'\n",
       "5. '경남'\n",
       "6. '경북'\n",
       "7. '경상남도'\n",
       "8. '경상북도'\n",
       "9. '광주'\n",
       "10. '광주광역시'\n",
       "11. '대구'\n",
       "12. '대구광역시'\n",
       "13. '대전'\n",
       "14. '대전광역시'\n",
       "15. '부산'\n",
       "16. '부산광역시'\n",
       "17. '서울'\n",
       "18. '서울특별시'\n",
       "19. '세종특별자치시'\n",
       "20. '울산'\n",
       "21. '울산광역시'\n",
       "22. '인천'\n",
       "23. '인천광역시'\n",
       "24. '전남'\n",
       "25. '전라남도'\n",
       "26. '전라북도'\n",
       "27. '전북'\n",
       "28. '제주'\n",
       "29. '제주특별자치도'\n",
       "30. '충남'\n",
       "31. '충북'\n",
       "32. '충청남도'\n",
       "33. '충청북도'\n",
       "\n",
       "\n"
      ],
      "text/plain": [
       " [1] \"강원\"           \"강원도\"         \"경기\"           \"경기도\"        \n",
       " [5] \"경남\"           \"경북\"           \"경상남도\"       \"경상북도\"      \n",
       " [9] \"광주\"           \"광주광역시\"     \"대구\"           \"대구광역시\"    \n",
       "[13] \"대전\"           \"대전광역시\"     \"부산\"           \"부산광역시\"    \n",
       "[17] \"서울\"           \"서울특별시\"     \"세종특별자치시\" \"울산\"          \n",
       "[21] \"울산광역시\"     \"인천\"           \"인천광역시\"     \"전남\"          \n",
       "[25] \"전라남도\"       \"전라북도\"       \"전북\"           \"제주\"          \n",
       "[29] \"제주특별자치도\" \"충남\"           \"충북\"           \"충청남도\"      \n",
       "[33] \"충청북도\"      "
      ]
     },
     "metadata": {},
     "output_type": "display_data"
    }
   ],
   "source": [
    "levels(df$\"시도\")"
   ]
  },
  {
   "cell_type": "markdown",
   "metadata": {},
   "source": [
    "단순히 `strsplit`으로 `시도명` 정보를 얻으려고 했으나, `강원도`, `강원` 같이 표기 차이를 확인했다. \n",
    "\n",
    "같은 지역을 동일한 시도명으로 묶어주기 위해서 아래와 같이 함수를 작성하고 `apply` 하였다."
   ]
  },
  {
   "cell_type": "code",
   "execution_count": 19,
   "metadata": {},
   "outputs": [],
   "source": [
    "replace_local_name <- function(x) {\n",
    "    \n",
    "    r <- switch(x, \n",
    "                \"강원도\" = \"강원\",\n",
    "                \"경상남도\"= \"경남\",\n",
    "                \"경상북도\"= \"경북\",\n",
    "                \"광주광역시\"=\"광주\",\n",
    "                \"대구광역시\"=\"대구\",\n",
    "                \"대전광역시\"=\"대전\",\n",
    "                \"부산광역시\"=\"부산\",\n",
    "                \"서울특별시\"=\"서울\", \n",
    "                \"세종특별자치시\"=\"세종\",\n",
    "                \"울산광역시\"=\"울산\",\n",
    "                \"인천광역시\"=\"인천\",\n",
    "                \"전라남도\"=\"전남\",\n",
    "                \"전라북도\"=\"전북\",\n",
    "                \"제주특별자치도\"=\"제주\",\n",
    "                \"충청남도\"=\"충남\",\n",
    "                \"충청북도\"=\"충북\",\n",
    "                \"경기도\"=\"경기\",\n",
    "                x # default\n",
    "               )\n",
    "    return (r)\n",
    "}"
   ]
  },
  {
   "cell_type": "code",
   "execution_count": 20,
   "metadata": {},
   "outputs": [],
   "source": [
    "# 함수를 적용한 `시도` 컬럼을 기존 데이터프레임이 결합\n",
    "df <- data.frame(df[-9], apply(df[\"시도\"], 1, replace_local_name))"
   ]
  },
  {
   "cell_type": "code",
   "execution_count": 21,
   "metadata": {},
   "outputs": [],
   "source": [
    "# 변경된 컬럼의 이름을 다시 지정\n",
    "colnames(df)[9] <- \"시도\""
   ]
  },
  {
   "cell_type": "code",
   "execution_count": 23,
   "metadata": {},
   "outputs": [
    {
     "name": "stdout",
     "output_type": "stream",
     "text": [
      "'data.frame':\t10365 obs. of  9 variables:\n",
      " $ 사고년도      : int  2012 2012 2012 2012 2012 2012 2012 2012 2012 2012 ...\n",
      " $ 사고유형구분  : Factor w/ 5 levels \"무단횡단\",\"보행노인\",..: 4 4 4 4 4 4 4 4 4 4 ...\n",
      " $ 위치코드      : int  11110001 11290001 11290002 11290003 11320001 11350001 11530001 11530002 11710001 26290001 ...\n",
      " $ 시도시군구명  : Factor w/ 2014 levels \"강원 강릉1\",\"강원 강릉2\",..: 1534 1431 1440 1441 1363 1351 1333 1337 1448 1034 ...\n",
      " $ 사고지역위치명: Factor w/ 8568 levels \"강원도 강릉시 강동면(등명낙가사 부근)\",..: 6685 6028 5974 5988 5412 5292 5128 5132 6113 4064 ...\n",
      " $ 발생건수      : int  2 2 2 3 2 2 2 2 2 2 ...\n",
      " $ 사상자수      : int  2 2 2 3 2 2 3 2 2 2 ...\n",
      " $ 사망자수      : int  0 0 0 0 0 1 0 0 0 0 ...\n",
      " $ 시도          : Factor w/ 17 levels \"강원\",\"경기\",..: 9 9 9 9 9 9 9 9 9 8 ...\n"
     ]
    }
   ],
   "source": [
    "str(df)"
   ]
  },
  {
   "cell_type": "markdown",
   "metadata": {},
   "source": [
    "전처리를 통해 기존 2014 레벨을 가지는 Factor `시도시군구명`을 17 레벨의 `시도` Factor로 변환할 수 있었다."
   ]
  },
  {
   "cell_type": "code",
   "execution_count": 58,
   "metadata": {},
   "outputs": [],
   "source": [
    "freq = aggregate(df[c(\"발생건수\", \"시도\")]$\"발생건수\", \n",
    "                 by=list(df[c(\"발생건수\", \"시도\")]$\"시도\"), \n",
    "                 FUN=sum)"
   ]
  },
  {
   "cell_type": "code",
   "execution_count": 59,
   "metadata": {},
   "outputs": [],
   "source": [
    "names(freq) <- c(\"시도\", \"발생건수\")"
   ]
  },
  {
   "cell_type": "code",
   "execution_count": 62,
   "metadata": {},
   "outputs": [],
   "source": [
    "freq[\"시도\"] <- lapply(freq[\"시도\"], as.character)"
   ]
  },
  {
   "cell_type": "code",
   "execution_count": 66,
   "metadata": {},
   "outputs": [
    {
     "data": {
      "text/html": [
       "<table>\n",
       "<caption>A data.frame: 17 × 2</caption>\n",
       "<thead>\n",
       "\t<tr><th scope=col>시도</th><th scope=col>발생건수</th></tr>\n",
       "\t<tr><th scope=col>&lt;chr&gt;</th><th scope=col>&lt;int&gt;</th></tr>\n",
       "</thead>\n",
       "<tbody>\n",
       "\t<tr><td>강원</td><td>  902</td></tr>\n",
       "\t<tr><td>경기</td><td> 8704</td></tr>\n",
       "\t<tr><td>경남</td><td> 2226</td></tr>\n",
       "\t<tr><td>경북</td><td> 2263</td></tr>\n",
       "\t<tr><td>광주</td><td> 1393</td></tr>\n",
       "\t<tr><td>대구</td><td> 5058</td></tr>\n",
       "\t<tr><td>대전</td><td> 1374</td></tr>\n",
       "\t<tr><td>부산</td><td> 3596</td></tr>\n",
       "\t<tr><td>서울</td><td>14792</td></tr>\n",
       "\t<tr><td>세종</td><td>   38</td></tr>\n",
       "\t<tr><td>울산</td><td>  871</td></tr>\n",
       "\t<tr><td>인천</td><td> 1724</td></tr>\n",
       "\t<tr><td>전남</td><td> 1397</td></tr>\n",
       "\t<tr><td>전북</td><td> 1742</td></tr>\n",
       "\t<tr><td>제주</td><td>  674</td></tr>\n",
       "\t<tr><td>충남</td><td> 1013</td></tr>\n",
       "\t<tr><td>충북</td><td> 1475</td></tr>\n",
       "</tbody>\n",
       "</table>\n"
      ],
      "text/latex": [
       "A data.frame: 17 × 2\n",
       "\\begin{tabular}{ll}\n",
       " 시도 & 발생건수\\\\\n",
       " <chr> & <int>\\\\\n",
       "\\hline\n",
       "\t 강원 &   902\\\\\n",
       "\t 경기 &  8704\\\\\n",
       "\t 경남 &  2226\\\\\n",
       "\t 경북 &  2263\\\\\n",
       "\t 광주 &  1393\\\\\n",
       "\t 대구 &  5058\\\\\n",
       "\t 대전 &  1374\\\\\n",
       "\t 부산 &  3596\\\\\n",
       "\t 서울 & 14792\\\\\n",
       "\t 세종 &    38\\\\\n",
       "\t 울산 &   871\\\\\n",
       "\t 인천 &  1724\\\\\n",
       "\t 전남 &  1397\\\\\n",
       "\t 전북 &  1742\\\\\n",
       "\t 제주 &   674\\\\\n",
       "\t 충남 &  1013\\\\\n",
       "\t 충북 &  1475\\\\\n",
       "\\end{tabular}\n"
      ],
      "text/markdown": [
       "\n",
       "A data.frame: 17 × 2\n",
       "\n",
       "| 시도 &lt;chr&gt; | 발생건수 &lt;int&gt; |\n",
       "|---|---|\n",
       "| 강원 |   902 |\n",
       "| 경기 |  8704 |\n",
       "| 경남 |  2226 |\n",
       "| 경북 |  2263 |\n",
       "| 광주 |  1393 |\n",
       "| 대구 |  5058 |\n",
       "| 대전 |  1374 |\n",
       "| 부산 |  3596 |\n",
       "| 서울 | 14792 |\n",
       "| 세종 |    38 |\n",
       "| 울산 |   871 |\n",
       "| 인천 |  1724 |\n",
       "| 전남 |  1397 |\n",
       "| 전북 |  1742 |\n",
       "| 제주 |   674 |\n",
       "| 충남 |  1013 |\n",
       "| 충북 |  1475 |\n",
       "\n"
      ],
      "text/plain": [
       "   시도 발생건수\n",
       "1  강원   902   \n",
       "2  경기  8704   \n",
       "3  경남  2226   \n",
       "4  경북  2263   \n",
       "5  광주  1393   \n",
       "6  대구  5058   \n",
       "7  대전  1374   \n",
       "8  부산  3596   \n",
       "9  서울 14792   \n",
       "10 세종    38   \n",
       "11 울산   871   \n",
       "12 인천  1724   \n",
       "13 전남  1397   \n",
       "14 전북  1742   \n",
       "15 제주   674   \n",
       "16 충남  1013   \n",
       "17 충북  1475   "
      ]
     },
     "metadata": {},
     "output_type": "display_data"
    }
   ],
   "source": [
    "freq"
   ]
  },
  {
   "cell_type": "code",
   "execution_count": null,
   "metadata": {},
   "outputs": [],
   "source": []
  }
 ],
 "metadata": {
  "kernelspec": {
   "display_name": "R",
   "language": "R",
   "name": "ir"
  },
  "language_info": {
   "codemirror_mode": "r",
   "file_extension": ".r",
   "mimetype": "text/x-r-source",
   "name": "R",
   "pygments_lexer": "r",
   "version": "3.6.1"
  }
 },
 "nbformat": 4,
 "nbformat_minor": 2
}
