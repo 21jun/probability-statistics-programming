{
 "cells": [
  {
   "cell_type": "markdown",
   "metadata": {},
   "source": [
    "## [문제1] (15점) diamonds는 패키지(package) “ggplot2”에 내장되어 있는 데이터이다."
   ]
  },
  {
   "cell_type": "markdown",
   "metadata": {},
   "source": [
    "### (1) 10개의 변수에서 ‘cut’에 대한 막대그래프(Bar Chart)를 예쁘게 R로 작성하여라."
   ]
  },
  {
   "cell_type": "markdown",
   "metadata": {},
   "source": [
    "그래프를 그리기 위해서 `ggplot2`를 사용하고, \n",
    "\n",
    "예쁜 색상을 이용하기 위해 `RColorBrewer`를 사용하였다."
   ]
  },
  {
   "cell_type": "code",
   "execution_count": 1,
   "metadata": {},
   "outputs": [
    {
     "name": "stderr",
     "output_type": "stream",
     "text": [
      "Warning message:\n",
      "\"package 'ggplot2' was built under R version 3.6.2\"\n"
     ]
    }
   ],
   "source": [
    "library(ggplot2)\n",
    "library(RColorBrewer)"
   ]
  },
  {
   "cell_type": "code",
   "execution_count": 2,
   "metadata": {},
   "outputs": [
    {
     "data": {
      "image/png": "[encoded data removed]",
      "text/plain": [
       "Plot with title \"Cut\""
      ]
     },
     "metadata": {
      "image/png": {
       "height": 420,
       "width": 420
      },
      "text/plain": {
       "height": 420,
       "width": 420
      }
     },
     "output_type": "display_data"
    }
   ],
   "source": [
    "coul <- brewer.pal(length(levels(diamonds$cut)), \"Set2\") \n",
    "barplot(table(diamonds$cut),\n",
    "        horiz=T,\n",
    "        col=coul,\n",
    "        main='Cut')"
   ]
  },
  {
   "cell_type": "markdown",
   "metadata": {},
   "source": [
    "### (2) clarity에 대한 원형그래프(Pie Chart)를 예쁘게 꾸며 보세요."
   ]
  },
  {
   "cell_type": "code",
   "execution_count": 3,
   "metadata": {},
   "outputs": [
    {
     "data": {
      "image/png": "[encoded data removed]",
      "text/plain": [
       "Plot with title \"Clarity\""
      ]
     },
     "metadata": {
      "image/png": {
       "height": 420,
       "width": 420
      },
      "text/plain": {
       "height": 420,
       "width": 420
      }
     },
     "output_type": "display_data"
    }
   ],
   "source": [
    "coul <- brewer.pal(length(levels(diamonds$clarity)), \"Set2\") \n",
    "pie(table(diamonds$clarity),\n",
    "    col=coul,\n",
    "    main='Clarity',\n",
    "   )"
   ]
  },
  {
   "cell_type": "markdown",
   "metadata": {},
   "source": [
    "## [문제2] (15점) MASS 패키지에 내장된 iris 데이터는 Sepal.Length(꽃받침의 길이), Sepal.Width(꽃받침의 폭), Petal.Length(꽃잎의 길이), Petal.Width(꽃잎의 폭)이라는 4개의 연속형 변수와 Species(품종)이라는 명목형(이산형) 변수가 있다."
   ]
  },
  {
   "cell_type": "markdown",
   "metadata": {},
   "source": [
    "### (1) iris 데이터에서 Sepal.Length의 줄기-잎 그림(Stem-and-Leaf plot)을 나타내어라."
   ]
  },
  {
   "cell_type": "code",
   "execution_count": 4,
   "metadata": {},
   "outputs": [
    {
     "name": "stderr",
     "output_type": "stream",
     "text": [
      "Warning message:\n",
      "\"package 'MASS' was built under R version 3.6.2\"\n"
     ]
    }
   ],
   "source": [
    "library(MASS)"
   ]
  },
  {
   "cell_type": "code",
   "execution_count": 5,
   "metadata": {},
   "outputs": [
    {
     "name": "stdout",
     "output_type": "stream",
     "text": [
      "\n",
      "  The decimal point is 1 digit(s) to the left of the |\n",
      "\n",
      "  42 | 0\n",
      "  44 | 0000\n",
      "  46 | 000000\n",
      "  48 | 00000000000\n",
      "  50 | 0000000000000000000\n",
      "  52 | 00000\n",
      "  54 | 0000000000000\n",
      "  56 | 00000000000000\n",
      "  58 | 0000000000\n",
      "  60 | 000000000000\n",
      "  62 | 0000000000000\n",
      "  64 | 000000000000\n",
      "  66 | 0000000000\n",
      "  68 | 0000000\n",
      "  70 | 00\n",
      "  72 | 0000\n",
      "  74 | 0\n",
      "  76 | 00000\n",
      "  78 | 0\n",
      "\n"
     ]
    }
   ],
   "source": [
    "stem(iris$Sepal.Length)"
   ]
  },
  {
   "cell_type": "markdown",
   "metadata": {},
   "source": [
    "### (2) iris 데이터에서 Sepal.Width의 상자그림(Box Plot)을 나타내어라."
   ]
  },
  {
   "cell_type": "code",
   "execution_count": 6,
   "metadata": {},
   "outputs": [
    {
     "data": {
      "text/html": [
       "<style>\n",
       ".dl-inline {width: auto; margin:0; padding: 0}\n",
       ".dl-inline>dt, .dl-inline>dd {float: none; width: auto; display: inline-block}\n",
       ".dl-inline>dt::after {content: \":\\0020\"; padding-right: .5ex}\n",
       ".dl-inline>dt:not(:first-of-type) {padding-left: .5ex}\n",
       "</style><dl class=dl-inline><dt>0%</dt><dd>2</dd><dt>25%</dt><dd>2.8</dd><dt>50%</dt><dd>3</dd><dt>75%</dt><dd>3.3</dd><dt>100%</dt><dd>4.4</dd></dl>\n"
      ],
      "text/latex": [
       "\\begin{description*}\n",
       "\\item[0\\textbackslash{}\\%] 2\n",
       "\\item[25\\textbackslash{}\\%] 2.8\n",
       "\\item[50\\textbackslash{}\\%] 3\n",
       "\\item[75\\textbackslash{}\\%] 3.3\n",
       "\\item[100\\textbackslash{}\\%] 4.4\n",
       "\\end{description*}\n"
      ],
      "text/markdown": [
       "0%\n",
       ":   225%\n",
       ":   2.850%\n",
       ":   375%\n",
       ":   3.3100%\n",
       ":   4.4\n",
       "\n"
      ],
      "text/plain": [
       "  0%  25%  50%  75% 100% \n",
       " 2.0  2.8  3.0  3.3  4.4 "
      ]
     },
     "metadata": {},
     "output_type": "display_data"
    },
    {
     "data": {
      "text/html": [
       "0.5"
      ],
      "text/latex": [
       "0.5"
      ],
      "text/markdown": [
       "0.5"
      ],
      "text/plain": [
       "[1] 0.5"
      ]
     },
     "metadata": {},
     "output_type": "display_data"
    }
   ],
   "source": [
    "quantile(iris$Sepal.Width)\n",
    "IQR(iris$Sepal.Width)"
   ]
  },
  {
   "cell_type": "code",
   "execution_count": 7,
   "metadata": {},
   "outputs": [
    {
     "data": {
      "text/html": [
       "<style>\n",
       ".list-inline {list-style: none; margin:0; padding: 0}\n",
       ".list-inline>li {display: inline-block}\n",
       ".list-inline>li:not(:last-child)::after {content: \"\\00b7\"; padding: 0 .5ex}\n",
       "</style>\n",
       "<ol class=list-inline><li>3.5</li><li>3</li><li>3.2</li><li>3.1</li><li>3.6</li><li>3.9</li><li>3.4</li><li>3.4</li><li>2.9</li><li>3.1</li><li>3.7</li><li>3.4</li><li>3</li><li>3</li><li>4</li><li>4.4</li><li>3.9</li><li>3.5</li><li>3.8</li><li>3.8</li><li>3.4</li><li>3.7</li><li>3.6</li><li>3.3</li><li>3.4</li><li>3</li><li>3.4</li><li>3.5</li><li>3.4</li><li>3.2</li><li>3.1</li><li>3.4</li><li>4.1</li><li>4.2</li><li>3.1</li><li>3.2</li><li>3.5</li><li>3.6</li><li>3</li><li>3.4</li><li>3.5</li><li>2.3</li><li>3.2</li><li>3.5</li><li>3.8</li><li>3</li><li>3.8</li><li>3.2</li><li>3.7</li><li>3.3</li><li>3.2</li><li>3.2</li><li>3.1</li><li>2.3</li><li>2.8</li><li>2.8</li><li>3.3</li><li>2.4</li><li>2.9</li><li>2.7</li><li>2</li><li>3</li><li>2.2</li><li>2.9</li><li>2.9</li><li>3.1</li><li>3</li><li>2.7</li><li>2.2</li><li>2.5</li><li>3.2</li><li>2.8</li><li>2.5</li><li>2.8</li><li>2.9</li><li>3</li><li>2.8</li><li>3</li><li>2.9</li><li>2.6</li><li>2.4</li><li>2.4</li><li>2.7</li><li>2.7</li><li>3</li><li>3.4</li><li>3.1</li><li>2.3</li><li>3</li><li>2.5</li><li>2.6</li><li>3</li><li>2.6</li><li>2.3</li><li>2.7</li><li>3</li><li>2.9</li><li>2.9</li><li>2.5</li><li>2.8</li><li>3.3</li><li>2.7</li><li>3</li><li>2.9</li><li>3</li><li>3</li><li>2.5</li><li>2.9</li><li>2.5</li><li>3.6</li><li>3.2</li><li>2.7</li><li>3</li><li>2.5</li><li>2.8</li><li>3.2</li><li>3</li><li>3.8</li><li>2.6</li><li>2.2</li><li>3.2</li><li>2.8</li><li>2.8</li><li>2.7</li><li>3.3</li><li>3.2</li><li>2.8</li><li>3</li><li>2.8</li><li>3</li><li>2.8</li><li>3.8</li><li>2.8</li><li>2.8</li><li>2.6</li><li>3</li><li>3.4</li><li>3.1</li><li>3</li><li>3.1</li><li>3.1</li><li>3.1</li><li>2.7</li><li>3.2</li><li>3.3</li><li>3</li><li>2.5</li><li>3</li><li>3.4</li><li>3</li></ol>\n"
      ],
      "text/latex": [
       "\\begin{enumerate*}\n",
       "\\item 3.5\n",
       "\\item 3\n",
       "\\item 3.2\n",
       "\\item 3.1\n",
       "\\item 3.6\n",
       "\\item 3.9\n",
       "\\item 3.4\n",
       "\\item 3.4\n",
       "\\item 2.9\n",
       "\\item 3.1\n",
       "\\item 3.7\n",
       "\\item 3.4\n",
       "\\item 3\n",
       "\\item 3\n",
       "\\item 4\n",
       "\\item 4.4\n",
       "\\item 3.9\n",
       "\\item 3.5\n",
       "\\item 3.8\n",
       "\\item 3.8\n",
       "\\item 3.4\n",
       "\\item 3.7\n",
       "\\item 3.6\n",
       "\\item 3.3\n",
       "\\item 3.4\n",
       "\\item 3\n",
       "\\item 3.4\n",
       "\\item 3.5\n",
       "\\item 3.4\n",
       "\\item 3.2\n",
       "\\item 3.1\n",
       "\\item 3.4\n",
       "\\item 4.1\n",
       "\\item 4.2\n",
       "\\item 3.1\n",
       "\\item 3.2\n",
       "\\item 3.5\n",
       "\\item 3.6\n",
       "\\item 3\n",
       "\\item 3.4\n",
       "\\item 3.5\n",
       "\\item 2.3\n",
       "\\item 3.2\n",
       "\\item 3.5\n",
       "\\item 3.8\n",
       "\\item 3\n",
       "\\item 3.8\n",
       "\\item 3.2\n",
       "\\item 3.7\n",
       "\\item 3.3\n",
       "\\item 3.2\n",
       "\\item 3.2\n",
       "\\item 3.1\n",
       "\\item 2.3\n",
       "\\item 2.8\n",
       "\\item 2.8\n",
       "\\item 3.3\n",
       "\\item 2.4\n",
       "\\item 2.9\n",
       "\\item 2.7\n",
       "\\item 2\n",
       "\\item 3\n",
       "\\item 2.2\n",
       "\\item 2.9\n",
       "\\item 2.9\n",
       "\\item 3.1\n",
       "\\item 3\n",
       "\\item 2.7\n",
       "\\item 2.2\n",
       "\\item 2.5\n",
       "\\item 3.2\n",
       "\\item 2.8\n",
       "\\item 2.5\n",
       "\\item 2.8\n",
       "\\item 2.9\n",
       "\\item 3\n",
       "\\item 2.8\n",
       "\\item 3\n",
       "\\item 2.9\n",
       "\\item 2.6\n",
       "\\item 2.4\n",
       "\\item 2.4\n",
       "\\item 2.7\n",
       "\\item 2.7\n",
       "\\item 3\n",
       "\\item 3.4\n",
       "\\item 3.1\n",
       "\\item 2.3\n",
       "\\item 3\n",
       "\\item 2.5\n",
       "\\item 2.6\n",
       "\\item 3\n",
       "\\item 2.6\n",
       "\\item 2.3\n",
       "\\item 2.7\n",
       "\\item 3\n",
       "\\item 2.9\n",
       "\\item 2.9\n",
       "\\item 2.5\n",
       "\\item 2.8\n",
       "\\item 3.3\n",
       "\\item 2.7\n",
       "\\item 3\n",
       "\\item 2.9\n",
       "\\item 3\n",
       "\\item 3\n",
       "\\item 2.5\n",
       "\\item 2.9\n",
       "\\item 2.5\n",
       "\\item 3.6\n",
       "\\item 3.2\n",
       "\\item 2.7\n",
       "\\item 3\n",
       "\\item 2.5\n",
       "\\item 2.8\n",
       "\\item 3.2\n",
       "\\item 3\n",
       "\\item 3.8\n",
       "\\item 2.6\n",
       "\\item 2.2\n",
       "\\item 3.2\n",
       "\\item 2.8\n",
       "\\item 2.8\n",
       "\\item 2.7\n",
       "\\item 3.3\n",
       "\\item 3.2\n",
       "\\item 2.8\n",
       "\\item 3\n",
       "\\item 2.8\n",
       "\\item 3\n",
       "\\item 2.8\n",
       "\\item 3.8\n",
       "\\item 2.8\n",
       "\\item 2.8\n",
       "\\item 2.6\n",
       "\\item 3\n",
       "\\item 3.4\n",
       "\\item 3.1\n",
       "\\item 3\n",
       "\\item 3.1\n",
       "\\item 3.1\n",
       "\\item 3.1\n",
       "\\item 2.7\n",
       "\\item 3.2\n",
       "\\item 3.3\n",
       "\\item 3\n",
       "\\item 2.5\n",
       "\\item 3\n",
       "\\item 3.4\n",
       "\\item 3\n",
       "\\end{enumerate*}\n"
      ],
      "text/markdown": [
       "1. 3.5\n",
       "2. 3\n",
       "3. 3.2\n",
       "4. 3.1\n",
       "5. 3.6\n",
       "6. 3.9\n",
       "7. 3.4\n",
       "8. 3.4\n",
       "9. 2.9\n",
       "10. 3.1\n",
       "11. 3.7\n",
       "12. 3.4\n",
       "13. 3\n",
       "14. 3\n",
       "15. 4\n",
       "16. 4.4\n",
       "17. 3.9\n",
       "18. 3.5\n",
       "19. 3.8\n",
       "20. 3.8\n",
       "21. 3.4\n",
       "22. 3.7\n",
       "23. 3.6\n",
       "24. 3.3\n",
       "25. 3.4\n",
       "26. 3\n",
       "27. 3.4\n",
       "28. 3.5\n",
       "29. 3.4\n",
       "30. 3.2\n",
       "31. 3.1\n",
       "32. 3.4\n",
       "33. 4.1\n",
       "34. 4.2\n",
       "35. 3.1\n",
       "36. 3.2\n",
       "37. 3.5\n",
       "38. 3.6\n",
       "39. 3\n",
       "40. 3.4\n",
       "41. 3.5\n",
       "42. 2.3\n",
       "43. 3.2\n",
       "44. 3.5\n",
       "45. 3.8\n",
       "46. 3\n",
       "47. 3.8\n",
       "48. 3.2\n",
       "49. 3.7\n",
       "50. 3.3\n",
       "51. 3.2\n",
       "52. 3.2\n",
       "53. 3.1\n",
       "54. 2.3\n",
       "55. 2.8\n",
       "56. 2.8\n",
       "57. 3.3\n",
       "58. 2.4\n",
       "59. 2.9\n",
       "60. 2.7\n",
       "61. 2\n",
       "62. 3\n",
       "63. 2.2\n",
       "64. 2.9\n",
       "65. 2.9\n",
       "66. 3.1\n",
       "67. 3\n",
       "68. 2.7\n",
       "69. 2.2\n",
       "70. 2.5\n",
       "71. 3.2\n",
       "72. 2.8\n",
       "73. 2.5\n",
       "74. 2.8\n",
       "75. 2.9\n",
       "76. 3\n",
       "77. 2.8\n",
       "78. 3\n",
       "79. 2.9\n",
       "80. 2.6\n",
       "81. 2.4\n",
       "82. 2.4\n",
       "83. 2.7\n",
       "84. 2.7\n",
       "85. 3\n",
       "86. 3.4\n",
       "87. 3.1\n",
       "88. 2.3\n",
       "89. 3\n",
       "90. 2.5\n",
       "91. 2.6\n",
       "92. 3\n",
       "93. 2.6\n",
       "94. 2.3\n",
       "95. 2.7\n",
       "96. 3\n",
       "97. 2.9\n",
       "98. 2.9\n",
       "99. 2.5\n",
       "100. 2.8\n",
       "101. 3.3\n",
       "102. 2.7\n",
       "103. 3\n",
       "104. 2.9\n",
       "105. 3\n",
       "106. 3\n",
       "107. 2.5\n",
       "108. 2.9\n",
       "109. 2.5\n",
       "110. 3.6\n",
       "111. 3.2\n",
       "112. 2.7\n",
       "113. 3\n",
       "114. 2.5\n",
       "115. 2.8\n",
       "116. 3.2\n",
       "117. 3\n",
       "118. 3.8\n",
       "119. 2.6\n",
       "120. 2.2\n",
       "121. 3.2\n",
       "122. 2.8\n",
       "123. 2.8\n",
       "124. 2.7\n",
       "125. 3.3\n",
       "126. 3.2\n",
       "127. 2.8\n",
       "128. 3\n",
       "129. 2.8\n",
       "130. 3\n",
       "131. 2.8\n",
       "132. 3.8\n",
       "133. 2.8\n",
       "134. 2.8\n",
       "135. 2.6\n",
       "136. 3\n",
       "137. 3.4\n",
       "138. 3.1\n",
       "139. 3\n",
       "140. 3.1\n",
       "141. 3.1\n",
       "142. 3.1\n",
       "143. 2.7\n",
       "144. 3.2\n",
       "145. 3.3\n",
       "146. 3\n",
       "147. 2.5\n",
       "148. 3\n",
       "149. 3.4\n",
       "150. 3\n",
       "\n",
       "\n"
      ],
      "text/plain": [
       "  [1] 3.5 3.0 3.2 3.1 3.6 3.9 3.4 3.4 2.9 3.1 3.7 3.4 3.0 3.0 4.0 4.4 3.9 3.5\n",
       " [19] 3.8 3.8 3.4 3.7 3.6 3.3 3.4 3.0 3.4 3.5 3.4 3.2 3.1 3.4 4.1 4.2 3.1 3.2\n",
       " [37] 3.5 3.6 3.0 3.4 3.5 2.3 3.2 3.5 3.8 3.0 3.8 3.2 3.7 3.3 3.2 3.2 3.1 2.3\n",
       " [55] 2.8 2.8 3.3 2.4 2.9 2.7 2.0 3.0 2.2 2.9 2.9 3.1 3.0 2.7 2.2 2.5 3.2 2.8\n",
       " [73] 2.5 2.8 2.9 3.0 2.8 3.0 2.9 2.6 2.4 2.4 2.7 2.7 3.0 3.4 3.1 2.3 3.0 2.5\n",
       " [91] 2.6 3.0 2.6 2.3 2.7 3.0 2.9 2.9 2.5 2.8 3.3 2.7 3.0 2.9 3.0 3.0 2.5 2.9\n",
       "[109] 2.5 3.6 3.2 2.7 3.0 2.5 2.8 3.2 3.0 3.8 2.6 2.2 3.2 2.8 2.8 2.7 3.3 3.2\n",
       "[127] 2.8 3.0 2.8 3.0 2.8 3.8 2.8 2.8 2.6 3.0 3.4 3.1 3.0 3.1 3.1 3.1 2.7 3.2\n",
       "[145] 3.3 3.0 2.5 3.0 3.4 3.0"
      ]
     },
     "metadata": {},
     "output_type": "display_data"
    }
   ],
   "source": [
    "iris$Sepal.Width"
   ]
  },
  {
   "cell_type": "code",
   "execution_count": 23,
   "metadata": {},
   "outputs": [
    {
     "data": {
      "image/png": "[encoded data removed]",
      "text/plain": [
       "plot without title"
      ]
     },
     "metadata": {
      "image/png": {
       "height": 420,
       "width": 420
      },
      "text/plain": {
       "height": 420,
       "width": 420
      }
     },
     "output_type": "display_data"
    }
   ],
   "source": [
    "coul <- brewer.pal(3, \"Set2\") \n",
    "boxplot(iris$Sepal.Width, \n",
    "        horizontal=T, \n",
    "        col=coul)\n",
    "points(iris$Sepal.Width, rep(1, length(iris$Sepal.Width)), )"
   ]
  },
  {
   "cell_type": "markdown",
   "metadata": {},
   "source": [
    "### (3) iris 데이터에서 Petal.Length의 히스토그램(histogram)을 나타내어라. 여기서 계급의 수는 Freedman-Diaconis' choice을 사용한다. 즉, 사분위수 범위(IQR, inter-quartile range)를 이용한 방법이다."
   ]
  },
  {
   "cell_type": "code",
   "execution_count": 26,
   "metadata": {},
   "outputs": [
    {
     "data": {
      "image/png": "[encoded data removed]",
      "text/plain": [
       "Plot with title \"Histogram of iris$Petal.Length\""
      ]
     },
     "metadata": {
      "image/png": {
       "height": 420,
       "width": 420
      },
      "text/plain": {
       "height": 420,
       "width": 420
      }
     },
     "output_type": "display_data"
    }
   ],
   "source": [
    "hist(iris$Petal.Length)"
   ]
  },
  {
   "cell_type": "code",
   "execution_count": null,
   "metadata": {},
   "outputs": [],
   "source": []
  }
 ],
 "metadata": {
  "kernelspec": {
   "display_name": "R",
   "language": "R",
   "name": "ir"
  },
  "language_info": {
   "codemirror_mode": "r",
   "file_extension": ".r",
   "mimetype": "text/x-r-source",
   "name": "R",
   "pygments_lexer": "r",
   "version": "3.6.1"
  }
 },
 "nbformat": 4,
 "nbformat_minor": 2
}
