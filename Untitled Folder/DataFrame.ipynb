{
 "cells": [
  {
   "cell_type": "code",
   "execution_count": 2,
   "metadata": {},
   "outputs": [],
   "source": [
    "x <- data.frame(\n",
    "    이름=c('A', 'B', 'C', 'D'),\n",
    "    성별=c('M', 'F', 'M', 'F'),\n",
    "    월급=c(360, 430, 510, 390),\n",
    "    동호회=c(T, F, F, F) \n",
    ")"
   ]
  },
  {
   "cell_type": "code",
   "execution_count": 3,
   "metadata": {},
   "outputs": [
    {
     "data": {
      "text/html": [
       "<table>\n",
       "<caption>A data.frame: 4 × 4</caption>\n",
       "<thead>\n",
       "\t<tr><th scope=col>이름</th><th scope=col>성별</th><th scope=col>월급</th><th scope=col>동호회</th></tr>\n",
       "\t<tr><th scope=col>&lt;fct&gt;</th><th scope=col>&lt;fct&gt;</th><th scope=col>&lt;dbl&gt;</th><th scope=col>&lt;lgl&gt;</th></tr>\n",
       "</thead>\n",
       "<tbody>\n",
       "\t<tr><td>A</td><td>M</td><td>360</td><td> TRUE</td></tr>\n",
       "\t<tr><td>B</td><td>F</td><td>430</td><td>FALSE</td></tr>\n",
       "\t<tr><td>C</td><td>M</td><td>510</td><td>FALSE</td></tr>\n",
       "\t<tr><td>D</td><td>F</td><td>390</td><td>FALSE</td></tr>\n",
       "</tbody>\n",
       "</table>\n"
      ],
      "text/latex": [
       "A data.frame: 4 × 4\n",
       "\\begin{tabular}{llll}\n",
       " 이름 & 성별 & 월급 & 동호회\\\\\n",
       " <fct> & <fct> & <dbl> & <lgl>\\\\\n",
       "\\hline\n",
       "\t A & M & 360 &  TRUE\\\\\n",
       "\t B & F & 430 & FALSE\\\\\n",
       "\t C & M & 510 & FALSE\\\\\n",
       "\t D & F & 390 & FALSE\\\\\n",
       "\\end{tabular}\n"
      ],
      "text/markdown": [
       "\n",
       "A data.frame: 4 × 4\n",
       "\n",
       "| 이름 &lt;fct&gt; | 성별 &lt;fct&gt; | 월급 &lt;dbl&gt; | 동호회 &lt;lgl&gt; |\n",
       "|---|---|---|---|\n",
       "| A | M | 360 |  TRUE |\n",
       "| B | F | 430 | FALSE |\n",
       "| C | M | 510 | FALSE |\n",
       "| D | F | 390 | FALSE |\n",
       "\n"
      ],
      "text/plain": [
       "  이름 성별 월급 동호회\n",
       "1 A    M    360   TRUE \n",
       "2 B    F    430  FALSE \n",
       "3 C    M    510  FALSE \n",
       "4 D    F    390  FALSE "
      ]
     },
     "metadata": {},
     "output_type": "display_data"
    }
   ],
   "source": [
    "x"
   ]
  },
  {
   "cell_type": "code",
   "execution_count": 4,
   "metadata": {},
   "outputs": [
    {
     "name": "stdout",
     "output_type": "stream",
     "text": [
      "'data.frame':\t4 obs. of  4 variables:\n",
      " $ 이름  : Factor w/ 4 levels \"A\",\"B\",\"C\",\"D\": 1 2 3 4\n",
      " $ 성별  : Factor w/ 2 levels \"F\",\"M\": 2 1 2 1\n",
      " $ 월급  : num  360 430 510 390\n",
      " $ 동호회: logi  TRUE FALSE FALSE FALSE\n"
     ]
    }
   ],
   "source": [
    "str(x)"
   ]
  },
  {
   "cell_type": "code",
   "execution_count": 5,
   "metadata": {},
   "outputs": [],
   "source": [
    "x$이름 <- as.character(x$이름)"
   ]
  },
  {
   "cell_type": "code",
   "execution_count": 6,
   "metadata": {},
   "outputs": [
    {
     "name": "stdout",
     "output_type": "stream",
     "text": [
      "'data.frame':\t4 obs. of  4 variables:\n",
      " $ 이름  : chr  \"A\" \"B\" \"C\" \"D\"\n",
      " $ 성별  : Factor w/ 2 levels \"F\",\"M\": 2 1 2 1\n",
      " $ 월급  : num  360 430 510 390\n",
      " $ 동호회: logi  TRUE FALSE FALSE FALSE\n"
     ]
    }
   ],
   "source": [
    "str(x)"
   ]
  },
  {
   "cell_type": "code",
   "execution_count": 7,
   "metadata": {},
   "outputs": [
    {
     "data": {
      "text/html": [
       "<style>\n",
       ".list-inline {list-style: none; margin:0; padding: 0}\n",
       ".list-inline>li {display: inline-block}\n",
       ".list-inline>li:not(:last-child)::after {content: \"\\00b7\"; padding: 0 .5ex}\n",
       "</style>\n",
       "<ol class=list-inline><li>'A'</li><li>'B'</li><li>'C'</li><li>'D'</li></ol>\n"
      ],
      "text/latex": [
       "\\begin{enumerate*}\n",
       "\\item 'A'\n",
       "\\item 'B'\n",
       "\\item 'C'\n",
       "\\item 'D'\n",
       "\\end{enumerate*}\n"
      ],
      "text/markdown": [
       "1. 'A'\n",
       "2. 'B'\n",
       "3. 'C'\n",
       "4. 'D'\n",
       "\n",
       "\n"
      ],
      "text/plain": [
       "[1] \"A\" \"B\" \"C\" \"D\""
      ]
     },
     "metadata": {},
     "output_type": "display_data"
    }
   ],
   "source": [
    "x$이름"
   ]
  },
  {
   "cell_type": "code",
   "execution_count": 9,
   "metadata": {},
   "outputs": [
    {
     "data": {
      "text/html": [
       "<style>\n",
       ".list-inline {list-style: none; margin:0; padding: 0}\n",
       ".list-inline>li {display: inline-block}\n",
       ".list-inline>li:not(:last-child)::after {content: \"\\00b7\"; padding: 0 .5ex}\n",
       "</style>\n",
       "<ol class=list-inline><li>'A'</li><li>'B'</li><li>'C'</li><li>'D'</li></ol>\n"
      ],
      "text/latex": [
       "\\begin{enumerate*}\n",
       "\\item 'A'\n",
       "\\item 'B'\n",
       "\\item 'C'\n",
       "\\item 'D'\n",
       "\\end{enumerate*}\n"
      ],
      "text/markdown": [
       "1. 'A'\n",
       "2. 'B'\n",
       "3. 'C'\n",
       "4. 'D'\n",
       "\n",
       "\n"
      ],
      "text/plain": [
       "[1] \"A\" \"B\" \"C\" \"D\""
      ]
     },
     "metadata": {},
     "output_type": "display_data"
    }
   ],
   "source": [
    "x[['이름']]"
   ]
  },
  {
   "cell_type": "code",
   "execution_count": null,
   "metadata": {},
   "outputs": [],
   "source": []
  }
 ],
 "metadata": {
  "kernelspec": {
   "display_name": "R",
   "language": "R",
   "name": "ir"
  }
 },
 "nbformat": 4,
 "nbformat_minor": 2
}
