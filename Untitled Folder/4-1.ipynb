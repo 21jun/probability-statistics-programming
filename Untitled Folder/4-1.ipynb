{
 "cells": [
  {
   "cell_type": "code",
   "execution_count": 1,
   "metadata": {},
   "outputs": [
    {
     "data": {
      "text/html": [
       "<style>\n",
       ".list-inline {list-style: none; margin:0; padding: 0}\n",
       ".list-inline>li {display: inline-block}\n",
       ".list-inline>li:not(:last-child)::after {content: \"\\00b7\"; padding: 0 .5ex}\n",
       "</style>\n",
       "<ol class=list-inline><li>320</li><li>360</li><li>390</li><li>420</li><li>465</li><li>480</li></ol>\n"
      ],
      "text/latex": [
       "\\begin{enumerate*}\n",
       "\\item 320\n",
       "\\item 360\n",
       "\\item 390\n",
       "\\item 420\n",
       "\\item 465\n",
       "\\item 480\n",
       "\\end{enumerate*}\n"
      ],
      "text/markdown": [
       "1. 320\n",
       "2. 360\n",
       "3. 390\n",
       "4. 420\n",
       "5. 465\n",
       "6. 480\n",
       "\n",
       "\n"
      ],
      "text/plain": [
       "[1] 320 360 390 420 465 480"
      ]
     },
     "metadata": {},
     "output_type": "display_data"
    }
   ],
   "source": [
    "# 데이터프레임 정렬\n",
    "x <- c(360, 420, 480, 320, 465, 390)\n",
    "sort(x)"
   ]
  },
  {
   "cell_type": "code",
   "execution_count": 2,
   "metadata": {},
   "outputs": [
    {
     "data": {
      "text/html": [
       "<table>\n",
       "<caption>A data.frame: 6 × 3</caption>\n",
       "<thead>\n",
       "\t<tr><th scope=col>성별</th><th scope=col>월급</th><th scope=col>지출</th></tr>\n",
       "\t<tr><th scope=col>&lt;fct&gt;</th><th scope=col>&lt;dbl&gt;</th><th scope=col>&lt;dbl&gt;</th></tr>\n",
       "</thead>\n",
       "<tbody>\n",
       "\t<tr><td>M</td><td>360</td><td>320</td></tr>\n",
       "\t<tr><td>F</td><td>420</td><td>270</td></tr>\n",
       "\t<tr><td>M</td><td>480</td><td>260</td></tr>\n",
       "\t<tr><td>F</td><td>320</td><td>280</td></tr>\n",
       "\t<tr><td>F</td><td>465</td><td>350</td></tr>\n",
       "\t<tr><td>M</td><td>390</td><td>230</td></tr>\n",
       "</tbody>\n",
       "</table>\n"
      ],
      "text/latex": [
       "A data.frame: 6 × 3\n",
       "\\begin{tabular}{lll}\n",
       " 성별 & 월급 & 지출\\\\\n",
       " <fct> & <dbl> & <dbl>\\\\\n",
       "\\hline\n",
       "\t M & 360 & 320\\\\\n",
       "\t F & 420 & 270\\\\\n",
       "\t M & 480 & 260\\\\\n",
       "\t F & 320 & 280\\\\\n",
       "\t F & 465 & 350\\\\\n",
       "\t M & 390 & 230\\\\\n",
       "\\end{tabular}\n"
      ],
      "text/markdown": [
       "\n",
       "A data.frame: 6 × 3\n",
       "\n",
       "| 성별 &lt;fct&gt; | 월급 &lt;dbl&gt; | 지출 &lt;dbl&gt; |\n",
       "|---|---|---|\n",
       "| M | 360 | 320 |\n",
       "| F | 420 | 270 |\n",
       "| M | 480 | 260 |\n",
       "| F | 320 | 280 |\n",
       "| F | 465 | 350 |\n",
       "| M | 390 | 230 |\n",
       "\n"
      ],
      "text/plain": [
       "  성별 월급 지출\n",
       "1 M    360  320 \n",
       "2 F    420  270 \n",
       "3 M    480  260 \n",
       "4 F    320  280 \n",
       "5 F    465  350 \n",
       "6 M    390  230 "
      ]
     },
     "metadata": {},
     "output_type": "display_data"
    }
   ],
   "source": [
    "x <- data.frame(성별=c('M', 'F', 'M', 'F', 'F', 'M'), \n",
    "                월급=c(360, 420, 480, 320, 465, 390), \n",
    "                지출=c(320, 270, 260, 280, 350, 230)\n",
    "               )\n",
    "x"
   ]
  },
  {
   "cell_type": "code",
   "execution_count": 3,
   "metadata": {},
   "outputs": [
    {
     "name": "stdout",
     "output_type": "stream",
     "text": [
      "'data.frame':\t6 obs. of  3 variables:\n",
      " $ 성별: Factor w/ 2 levels \"F\",\"M\": 2 1 2 1 1 2\n",
      " $ 월급: num  360 420 480 320 465 390\n",
      " $ 지출: num  320 270 260 280 350 230\n"
     ]
    }
   ],
   "source": [
    "str(x)"
   ]
  },
  {
   "cell_type": "code",
   "execution_count": 4,
   "metadata": {},
   "outputs": [
    {
     "data": {
      "text/html": [
       "<style>\n",
       ".list-inline {list-style: none; margin:0; padding: 0}\n",
       ".list-inline>li {display: inline-block}\n",
       ".list-inline>li:not(:last-child)::after {content: \"\\00b7\"; padding: 0 .5ex}\n",
       "</style>\n",
       "<ol class=list-inline><li>320</li><li>360</li><li>390</li><li>420</li><li>465</li><li>480</li></ol>\n"
      ],
      "text/latex": [
       "\\begin{enumerate*}\n",
       "\\item 320\n",
       "\\item 360\n",
       "\\item 390\n",
       "\\item 420\n",
       "\\item 465\n",
       "\\item 480\n",
       "\\end{enumerate*}\n"
      ],
      "text/markdown": [
       "1. 320\n",
       "2. 360\n",
       "3. 390\n",
       "4. 420\n",
       "5. 465\n",
       "6. 480\n",
       "\n",
       "\n"
      ],
      "text/plain": [
       "[1] 320 360 390 420 465 480"
      ]
     },
     "metadata": {},
     "output_type": "display_data"
    }
   ],
   "source": [
    "sort(x$월급)"
   ]
  },
  {
   "cell_type": "code",
   "execution_count": 5,
   "metadata": {},
   "outputs": [
    {
     "data": {
      "text/html": [
       "<style>\n",
       ".list-inline {list-style: none; margin:0; padding: 0}\n",
       ".list-inline>li {display: inline-block}\n",
       ".list-inline>li:not(:last-child)::after {content: \"\\00b7\"; padding: 0 .5ex}\n",
       "</style>\n",
       "<ol class=list-inline><li>4</li><li>1</li><li>6</li><li>2</li><li>5</li><li>3</li></ol>\n"
      ],
      "text/latex": [
       "\\begin{enumerate*}\n",
       "\\item 4\n",
       "\\item 1\n",
       "\\item 6\n",
       "\\item 2\n",
       "\\item 5\n",
       "\\item 3\n",
       "\\end{enumerate*}\n"
      ],
      "text/markdown": [
       "1. 4\n",
       "2. 1\n",
       "3. 6\n",
       "4. 2\n",
       "5. 5\n",
       "6. 3\n",
       "\n",
       "\n"
      ],
      "text/plain": [
       "[1] 4 1 6 2 5 3"
      ]
     },
     "metadata": {},
     "output_type": "display_data"
    }
   ],
   "source": [
    "order(x$월급)"
   ]
  },
  {
   "cell_type": "code",
   "execution_count": 6,
   "metadata": {},
   "outputs": [
    {
     "data": {
      "text/html": [
       "<table>\n",
       "<caption>A data.frame: 6 × 3</caption>\n",
       "<thead>\n",
       "\t<tr><th></th><th scope=col>성별</th><th scope=col>월급</th><th scope=col>지출</th></tr>\n",
       "\t<tr><th></th><th scope=col>&lt;fct&gt;</th><th scope=col>&lt;dbl&gt;</th><th scope=col>&lt;dbl&gt;</th></tr>\n",
       "</thead>\n",
       "<tbody>\n",
       "\t<tr><th scope=row>4</th><td>F</td><td>320</td><td>280</td></tr>\n",
       "\t<tr><th scope=row>1</th><td>M</td><td>360</td><td>320</td></tr>\n",
       "\t<tr><th scope=row>6</th><td>M</td><td>390</td><td>230</td></tr>\n",
       "\t<tr><th scope=row>2</th><td>F</td><td>420</td><td>270</td></tr>\n",
       "\t<tr><th scope=row>5</th><td>F</td><td>465</td><td>350</td></tr>\n",
       "\t<tr><th scope=row>3</th><td>M</td><td>480</td><td>260</td></tr>\n",
       "</tbody>\n",
       "</table>\n"
      ],
      "text/latex": [
       "A data.frame: 6 × 3\n",
       "\\begin{tabular}{r|lll}\n",
       "  & 성별 & 월급 & 지출\\\\\n",
       "  & <fct> & <dbl> & <dbl>\\\\\n",
       "\\hline\n",
       "\t4 & F & 320 & 280\\\\\n",
       "\t1 & M & 360 & 320\\\\\n",
       "\t6 & M & 390 & 230\\\\\n",
       "\t2 & F & 420 & 270\\\\\n",
       "\t5 & F & 465 & 350\\\\\n",
       "\t3 & M & 480 & 260\\\\\n",
       "\\end{tabular}\n"
      ],
      "text/markdown": [
       "\n",
       "A data.frame: 6 × 3\n",
       "\n",
       "| <!--/--> | 성별 &lt;fct&gt; | 월급 &lt;dbl&gt; | 지출 &lt;dbl&gt; |\n",
       "|---|---|---|---|\n",
       "| 4 | F | 320 | 280 |\n",
       "| 1 | M | 360 | 320 |\n",
       "| 6 | M | 390 | 230 |\n",
       "| 2 | F | 420 | 270 |\n",
       "| 5 | F | 465 | 350 |\n",
       "| 3 | M | 480 | 260 |\n",
       "\n"
      ],
      "text/plain": [
       "  성별 월급 지출\n",
       "4 F    320  280 \n",
       "1 M    360  320 \n",
       "6 M    390  230 \n",
       "2 F    420  270 \n",
       "5 F    465  350 \n",
       "3 M    480  260 "
      ]
     },
     "metadata": {},
     "output_type": "display_data"
    }
   ],
   "source": [
    "x <- x[ order( x$월급 ), ]\n",
    "x"
   ]
  },
  {
   "cell_type": "code",
   "execution_count": 7,
   "metadata": {},
   "outputs": [
    {
     "data": {
      "text/html": [
       "<table>\n",
       "<caption>A data.frame: 6 × 3</caption>\n",
       "<thead>\n",
       "\t<tr><th scope=col>성별</th><th scope=col>월급</th><th scope=col>지출</th></tr>\n",
       "\t<tr><th scope=col>&lt;fct&gt;</th><th scope=col>&lt;dbl&gt;</th><th scope=col>&lt;dbl&gt;</th></tr>\n",
       "</thead>\n",
       "<tbody>\n",
       "\t<tr><td>F</td><td>320</td><td>280</td></tr>\n",
       "\t<tr><td>M</td><td>360</td><td>320</td></tr>\n",
       "\t<tr><td>M</td><td>390</td><td>230</td></tr>\n",
       "\t<tr><td>F</td><td>420</td><td>270</td></tr>\n",
       "\t<tr><td>F</td><td>465</td><td>350</td></tr>\n",
       "\t<tr><td>M</td><td>480</td><td>260</td></tr>\n",
       "</tbody>\n",
       "</table>\n"
      ],
      "text/latex": [
       "A data.frame: 6 × 3\n",
       "\\begin{tabular}{lll}\n",
       " 성별 & 월급 & 지출\\\\\n",
       " <fct> & <dbl> & <dbl>\\\\\n",
       "\\hline\n",
       "\t F & 320 & 280\\\\\n",
       "\t M & 360 & 320\\\\\n",
       "\t M & 390 & 230\\\\\n",
       "\t F & 420 & 270\\\\\n",
       "\t F & 465 & 350\\\\\n",
       "\t M & 480 & 260\\\\\n",
       "\\end{tabular}\n"
      ],
      "text/markdown": [
       "\n",
       "A data.frame: 6 × 3\n",
       "\n",
       "| 성별 &lt;fct&gt; | 월급 &lt;dbl&gt; | 지출 &lt;dbl&gt; |\n",
       "|---|---|---|\n",
       "| F | 320 | 280 |\n",
       "| M | 360 | 320 |\n",
       "| M | 390 | 230 |\n",
       "| F | 420 | 270 |\n",
       "| F | 465 | 350 |\n",
       "| M | 480 | 260 |\n",
       "\n"
      ],
      "text/plain": [
       "  성별 월급 지출\n",
       "1 F    320  280 \n",
       "2 M    360  320 \n",
       "3 M    390  230 \n",
       "4 F    420  270 \n",
       "5 F    465  350 \n",
       "6 M    480  260 "
      ]
     },
     "metadata": {},
     "output_type": "display_data"
    }
   ],
   "source": [
    "rownames(x) <- NULL\n",
    "x"
   ]
  },
  {
   "cell_type": "code",
   "execution_count": 9,
   "metadata": {},
   "outputs": [
    {
     "data": {
      "text/html": [
       "<table>\n",
       "<caption>A data.frame: 6 × 3</caption>\n",
       "<thead>\n",
       "\t<tr><th></th><th scope=col>성별</th><th scope=col>월급</th><th scope=col>지출</th></tr>\n",
       "\t<tr><th></th><th scope=col>&lt;fct&gt;</th><th scope=col>&lt;dbl&gt;</th><th scope=col>&lt;dbl&gt;</th></tr>\n",
       "</thead>\n",
       "<tbody>\n",
       "\t<tr><th scope=row>1</th><td>F</td><td>320</td><td>280</td></tr>\n",
       "\t<tr><th scope=row>4</th><td>F</td><td>420</td><td>270</td></tr>\n",
       "\t<tr><th scope=row>5</th><td>F</td><td>465</td><td>350</td></tr>\n",
       "\t<tr><th scope=row>2</th><td>M</td><td>360</td><td>320</td></tr>\n",
       "\t<tr><th scope=row>3</th><td>M</td><td>390</td><td>230</td></tr>\n",
       "\t<tr><th scope=row>6</th><td>M</td><td>480</td><td>260</td></tr>\n",
       "</tbody>\n",
       "</table>\n"
      ],
      "text/latex": [
       "A data.frame: 6 × 3\n",
       "\\begin{tabular}{r|lll}\n",
       "  & 성별 & 월급 & 지출\\\\\n",
       "  & <fct> & <dbl> & <dbl>\\\\\n",
       "\\hline\n",
       "\t1 & F & 320 & 280\\\\\n",
       "\t4 & F & 420 & 270\\\\\n",
       "\t5 & F & 465 & 350\\\\\n",
       "\t2 & M & 360 & 320\\\\\n",
       "\t3 & M & 390 & 230\\\\\n",
       "\t6 & M & 480 & 260\\\\\n",
       "\\end{tabular}\n"
      ],
      "text/markdown": [
       "\n",
       "A data.frame: 6 × 3\n",
       "\n",
       "| <!--/--> | 성별 &lt;fct&gt; | 월급 &lt;dbl&gt; | 지출 &lt;dbl&gt; |\n",
       "|---|---|---|---|\n",
       "| 1 | F | 320 | 280 |\n",
       "| 4 | F | 420 | 270 |\n",
       "| 5 | F | 465 | 350 |\n",
       "| 2 | M | 360 | 320 |\n",
       "| 3 | M | 390 | 230 |\n",
       "| 6 | M | 480 | 260 |\n",
       "\n"
      ],
      "text/plain": [
       "  성별 월급 지출\n",
       "1 F    320  280 \n",
       "4 F    420  270 \n",
       "5 F    465  350 \n",
       "2 M    360  320 \n",
       "3 M    390  230 \n",
       "6 M    480  260 "
      ]
     },
     "metadata": {},
     "output_type": "display_data"
    }
   ],
   "source": [
    "x[ order( x$성별, x$월급 ), ]"
   ]
  },
  {
   "cell_type": "code",
   "execution_count": 12,
   "metadata": {},
   "outputs": [
    {
     "data": {
      "text/html": [
       "<table>\n",
       "<caption>A data.frame: 6 × 3</caption>\n",
       "<thead>\n",
       "\t<tr><th></th><th scope=col>성별</th><th scope=col>월급</th><th scope=col>지출</th></tr>\n",
       "\t<tr><th></th><th scope=col>&lt;fct&gt;</th><th scope=col>&lt;dbl&gt;</th><th scope=col>&lt;dbl&gt;</th></tr>\n",
       "</thead>\n",
       "<tbody>\n",
       "\t<tr><th scope=row>5</th><td>F</td><td>465</td><td>350</td></tr>\n",
       "\t<tr><th scope=row>1</th><td>F</td><td>320</td><td>280</td></tr>\n",
       "\t<tr><th scope=row>4</th><td>F</td><td>420</td><td>270</td></tr>\n",
       "\t<tr><th scope=row>2</th><td>M</td><td>360</td><td>320</td></tr>\n",
       "\t<tr><th scope=row>6</th><td>M</td><td>480</td><td>260</td></tr>\n",
       "\t<tr><th scope=row>3</th><td>M</td><td>390</td><td>230</td></tr>\n",
       "</tbody>\n",
       "</table>\n"
      ],
      "text/latex": [
       "A data.frame: 6 × 3\n",
       "\\begin{tabular}{r|lll}\n",
       "  & 성별 & 월급 & 지출\\\\\n",
       "  & <fct> & <dbl> & <dbl>\\\\\n",
       "\\hline\n",
       "\t5 & F & 465 & 350\\\\\n",
       "\t1 & F & 320 & 280\\\\\n",
       "\t4 & F & 420 & 270\\\\\n",
       "\t2 & M & 360 & 320\\\\\n",
       "\t6 & M & 480 & 260\\\\\n",
       "\t3 & M & 390 & 230\\\\\n",
       "\\end{tabular}\n"
      ],
      "text/markdown": [
       "\n",
       "A data.frame: 6 × 3\n",
       "\n",
       "| <!--/--> | 성별 &lt;fct&gt; | 월급 &lt;dbl&gt; | 지출 &lt;dbl&gt; |\n",
       "|---|---|---|---|\n",
       "| 5 | F | 465 | 350 |\n",
       "| 1 | F | 320 | 280 |\n",
       "| 4 | F | 420 | 270 |\n",
       "| 2 | M | 360 | 320 |\n",
       "| 6 | M | 480 | 260 |\n",
       "| 3 | M | 390 | 230 |\n",
       "\n"
      ],
      "text/plain": [
       "  성별 월급 지출\n",
       "5 F    465  350 \n",
       "1 F    320  280 \n",
       "4 F    420  270 \n",
       "2 M    360  320 \n",
       "6 M    480  260 \n",
       "3 M    390  230 "
      ]
     },
     "metadata": {},
     "output_type": "display_data"
    }
   ],
   "source": [
    "x[ order( x$성별, -x$지출 ), ]"
   ]
  },
  {
   "cell_type": "code",
   "execution_count": null,
   "metadata": {},
   "outputs": [],
   "source": [
    "!git status"
   ]
  },
  {
   "cell_type": "code",
   "execution_count": null,
   "metadata": {},
   "outputs": [],
   "source": []
  }
 ],
 "metadata": {
  "kernelspec": {
   "display_name": "R",
   "language": "R",
   "name": "ir"
  },
  "language_info": {
   "codemirror_mode": "r",
   "file_extension": ".r",
   "mimetype": "text/x-r-source",
   "name": "R",
   "pygments_lexer": "r",
   "version": "3.6.1"
  }
 },
 "nbformat": 4,
 "nbformat_minor": 2
}
