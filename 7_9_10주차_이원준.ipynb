{
 "cells": [
  {
   "cell_type": "code",
   "execution_count": 1,
   "metadata": {},
   "outputs": [
    {
     "name": "stdout",
     "output_type": "stream",
     "text": [
      "package 'prob' successfully unpacked and MD5 sums checked\n",
      "\n",
      "The downloaded binary packages are in\n",
      "\tC:\\Users\\21jun\\AppData\\Local\\Temp\\Rtmp6dWZ5U\\downloaded_packages\n"
     ]
    },
    {
     "name": "stderr",
     "output_type": "stream",
     "text": [
      "Warning message:\n",
      "\"package 'prob' was built under R version 3.6.3\"\n",
      "Loading required package: combinat\n",
      "\n",
      "\n",
      "Attaching package: 'combinat'\n",
      "\n",
      "\n",
      "The following object is masked from 'package:utils':\n",
      "\n",
      "    combn\n",
      "\n",
      "\n",
      "Loading required package: fAsianOptions\n",
      "\n",
      "Warning message:\n",
      "\"package 'fAsianOptions' was built under R version 3.6.3\"\n",
      "Loading required package: timeDate\n",
      "\n",
      "Loading required package: timeSeries\n",
      "\n",
      "Warning message:\n",
      "\"package 'timeSeries' was built under R version 3.6.3\"\n",
      "Loading required package: fBasics\n",
      "\n",
      "Warning message:\n",
      "\"package 'fBasics' was built under R version 3.6.3\"\n",
      "Loading required package: fOptions\n",
      "\n",
      "Warning message:\n",
      "\"package 'fOptions' was built under R version 3.6.3\"\n",
      "\n",
      "Attaching package: 'prob'\n",
      "\n",
      "\n",
      "The following objects are masked from 'package:base':\n",
      "\n",
      "    intersect, setdiff, union\n",
      "\n",
      "\n",
      "Warning message:\n",
      "\"package 'MASS' was built under R version 3.6.2\"\n"
     ]
    }
   ],
   "source": [
    "install.packages(\"prob\")\n",
    "library(prob)\n",
    "library(MASS)"
   ]
  },
  {
   "cell_type": "markdown",
   "metadata": {},
   "source": [
    "## 문제1"
   ]
  },
  {
   "cell_type": "code",
   "execution_count": 2,
   "metadata": {},
   "outputs": [],
   "source": [
    "S <- rolldie(2)"
   ]
  },
  {
   "cell_type": "code",
   "execution_count": 3,
   "metadata": {},
   "outputs": [],
   "source": [
    "A <- subset(S, ((X1+X2)==3) | ((X1+X2)==6))"
   ]
  },
  {
   "cell_type": "code",
   "execution_count": 4,
   "metadata": {},
   "outputs": [
    {
     "data": {
      "text/html": [
       "<table>\n",
       "<caption>A data.frame: 7 × 2</caption>\n",
       "<thead>\n",
       "\t<tr><th></th><th scope=col>X1</th><th scope=col>X2</th></tr>\n",
       "\t<tr><th></th><th scope=col>&lt;int&gt;</th><th scope=col>&lt;int&gt;</th></tr>\n",
       "</thead>\n",
       "<tbody>\n",
       "\t<tr><th scope=row>2</th><td>2</td><td>1</td></tr>\n",
       "\t<tr><th scope=row>5</th><td>5</td><td>1</td></tr>\n",
       "\t<tr><th scope=row>7</th><td>1</td><td>2</td></tr>\n",
       "\t<tr><th scope=row>10</th><td>4</td><td>2</td></tr>\n",
       "\t<tr><th scope=row>15</th><td>3</td><td>3</td></tr>\n",
       "\t<tr><th scope=row>20</th><td>2</td><td>4</td></tr>\n",
       "\t<tr><th scope=row>25</th><td>1</td><td>5</td></tr>\n",
       "</tbody>\n",
       "</table>\n"
      ],
      "text/latex": [
       "A data.frame: 7 × 2\n",
       "\\begin{tabular}{r|ll}\n",
       "  & X1 & X2\\\\\n",
       "  & <int> & <int>\\\\\n",
       "\\hline\n",
       "\t2 & 2 & 1\\\\\n",
       "\t5 & 5 & 1\\\\\n",
       "\t7 & 1 & 2\\\\\n",
       "\t10 & 4 & 2\\\\\n",
       "\t15 & 3 & 3\\\\\n",
       "\t20 & 2 & 4\\\\\n",
       "\t25 & 1 & 5\\\\\n",
       "\\end{tabular}\n"
      ],
      "text/markdown": [
       "\n",
       "A data.frame: 7 × 2\n",
       "\n",
       "| <!--/--> | X1 &lt;int&gt; | X2 &lt;int&gt; |\n",
       "|---|---|---|\n",
       "| 2 | 2 | 1 |\n",
       "| 5 | 5 | 1 |\n",
       "| 7 | 1 | 2 |\n",
       "| 10 | 4 | 2 |\n",
       "| 15 | 3 | 3 |\n",
       "| 20 | 2 | 4 |\n",
       "| 25 | 1 | 5 |\n",
       "\n"
      ],
      "text/plain": [
       "   X1 X2\n",
       "2  2  1 \n",
       "5  5  1 \n",
       "7  1  2 \n",
       "10 4  2 \n",
       "15 3  3 \n",
       "20 2  4 \n",
       "25 1  5 "
      ]
     },
     "metadata": {},
     "output_type": "display_data"
    }
   ],
   "source": [
    "A"
   ]
  },
  {
   "cell_type": "code",
   "execution_count": 5,
   "metadata": {},
   "outputs": [
    {
     "data": {
      "text/html": [
       "0.194444444444444"
      ],
      "text/latex": [
       "0.194444444444444"
      ],
      "text/markdown": [
       "0.194444444444444"
      ],
      "text/plain": [
       "[1] 0.1944444"
      ]
     },
     "metadata": {},
     "output_type": "display_data"
    }
   ],
   "source": [
    "nrow(A) / nrow(S)"
   ]
  },
  {
   "cell_type": "markdown",
   "metadata": {},
   "source": [
    "## 문제2"
   ]
  },
  {
   "cell_type": "code",
   "execution_count": 6,
   "metadata": {},
   "outputs": [],
   "source": [
    "S <- c(1:30)"
   ]
  },
  {
   "cell_type": "code",
   "execution_count": 7,
   "metadata": {},
   "outputs": [],
   "source": [
    "A <- subset(S, (S%%4==0)|(S%%9==0))"
   ]
  },
  {
   "cell_type": "code",
   "execution_count": 8,
   "metadata": {},
   "outputs": [
    {
     "data": {
      "text/html": [
       "<style>\n",
       ".list-inline {list-style: none; margin:0; padding: 0}\n",
       ".list-inline>li {display: inline-block}\n",
       ".list-inline>li:not(:last-child)::after {content: \"\\00b7\"; padding: 0 .5ex}\n",
       "</style>\n",
       "<ol class=list-inline><li>4</li><li>8</li><li>9</li><li>12</li><li>16</li><li>18</li><li>20</li><li>24</li><li>27</li><li>28</li></ol>\n"
      ],
      "text/latex": [
       "\\begin{enumerate*}\n",
       "\\item 4\n",
       "\\item 8\n",
       "\\item 9\n",
       "\\item 12\n",
       "\\item 16\n",
       "\\item 18\n",
       "\\item 20\n",
       "\\item 24\n",
       "\\item 27\n",
       "\\item 28\n",
       "\\end{enumerate*}\n"
      ],
      "text/markdown": [
       "1. 4\n",
       "2. 8\n",
       "3. 9\n",
       "4. 12\n",
       "5. 16\n",
       "6. 18\n",
       "7. 20\n",
       "8. 24\n",
       "9. 27\n",
       "10. 28\n",
       "\n",
       "\n"
      ],
      "text/plain": [
       " [1]  4  8  9 12 16 18 20 24 27 28"
      ]
     },
     "metadata": {},
     "output_type": "display_data"
    }
   ],
   "source": [
    "A"
   ]
  },
  {
   "cell_type": "code",
   "execution_count": 9,
   "metadata": {},
   "outputs": [
    {
     "data": {
      "text/html": [
       "0.333333333333333"
      ],
      "text/latex": [
       "0.333333333333333"
      ],
      "text/markdown": [
       "0.333333333333333"
      ],
      "text/plain": [
       "[1] 0.3333333"
      ]
     },
     "metadata": {},
     "output_type": "display_data"
    }
   ],
   "source": [
    "length(A) / length(S)"
   ]
  },
  {
   "cell_type": "markdown",
   "metadata": {},
   "source": [
    "## 문제3"
   ]
  },
  {
   "cell_type": "code",
   "execution_count": 10,
   "metadata": {},
   "outputs": [],
   "source": [
    "makePocket <- function(x) {\n",
    "    \n",
    "    p <- c()\n",
    "    # white balls\n",
    "    for (i in 1:x)\n",
    "        p <- c(p, \"White\")\n",
    "    \n",
    "    # black balls\n",
    "    for (i in 1:(5-x))\n",
    "        p <- c(p, \"Black\")\n",
    "    pocket <- data.frame(ball=p)\n",
    "    \n",
    "    return (pocket)\n",
    "}"
   ]
  },
  {
   "cell_type": "code",
   "execution_count": 11,
   "metadata": {},
   "outputs": [],
   "source": [
    "countPocket <- function(pocket, color) {\n",
    "    return (sum(pocket$ball == color))\n",
    "}"
   ]
  },
  {
   "cell_type": "code",
   "execution_count": 12,
   "metadata": {},
   "outputs": [],
   "source": [
    "pocket1 = makePocket(1)\n",
    "pocket2 = makePocket(2)\n",
    "pocket3 = makePocket(3)"
   ]
  },
  {
   "cell_type": "code",
   "execution_count": 13,
   "metadata": {},
   "outputs": [],
   "source": [
    "pickWhite = (countPocket(pocket1, \"White\") + \n",
    "             countPocket(pocket2, \"White\") +\n",
    "             countPocket(pocket3, \"White\")\n",
    "             )"
   ]
  },
  {
   "cell_type": "code",
   "execution_count": 14,
   "metadata": {},
   "outputs": [],
   "source": [
    "S <- nrow(pocket1) + nrow(pocket2) + nrow(pocket3)"
   ]
  },
  {
   "cell_type": "code",
   "execution_count": 15,
   "metadata": {},
   "outputs": [
    {
     "data": {
      "text/html": [
       "2/5"
      ],
      "text/latex": [
       "2/5"
      ],
      "text/markdown": [
       "2/5"
      ],
      "text/plain": [
       "[1] 2/5"
      ]
     },
     "metadata": {},
     "output_type": "display_data"
    }
   ],
   "source": [
    "# 하얀공이 나올 확률\n",
    "A1 = as.fractions(pickWhite / S); A1"
   ]
  },
  {
   "cell_type": "code",
   "execution_count": 16,
   "metadata": {},
   "outputs": [
    {
     "data": {
      "text/html": [
       "1/5"
      ],
      "text/latex": [
       "1/5"
      ],
      "text/markdown": [
       "1/5"
      ],
      "text/plain": [
       "[1] 1/5"
      ]
     },
     "metadata": {},
     "output_type": "display_data"
    }
   ],
   "source": [
    "# 3번 주머니를 선택하고 하얀공이 나올 확률\n",
    "A2 = 1/3 * as.fractions(countPocket(pocket3, \"White\")/nrow(pocket3)); A2"
   ]
  },
  {
   "cell_type": "code",
   "execution_count": 17,
   "metadata": {},
   "outputs": [
    {
     "data": {
      "text/html": [
       "1/2"
      ],
      "text/latex": [
       "1/2"
      ],
      "text/markdown": [
       "1/2"
      ],
      "text/plain": [
       "[1] 1/2"
      ]
     },
     "metadata": {},
     "output_type": "display_data"
    }
   ],
   "source": [
    "# 하얀 공이 추출되었다는 조건하에서 추출된 하얀 공이 3번 주머니에서 나왔을 확률\n",
    "A2/A1"
   ]
  },
  {
   "cell_type": "markdown",
   "metadata": {},
   "source": [
    "## 문제4"
   ]
  },
  {
   "cell_type": "code",
   "execution_count": 18,
   "metadata": {},
   "outputs": [],
   "source": [
    "age <- c(20,30,40,50,60)"
   ]
  },
  {
   "cell_type": "code",
   "execution_count": 19,
   "metadata": {},
   "outputs": [
    {
     "data": {
      "text/html": [
       "<style>\n",
       ".list-inline {list-style: none; margin:0; padding: 0}\n",
       ".list-inline>li {display: inline-block}\n",
       ".list-inline>li:not(:last-child)::after {content: \"\\00b7\"; padding: 0 .5ex}\n",
       "</style>\n",
       "<ol class=list-inline><li>0.15</li><li>0.24</li><li>0.26</li><li>0.2</li><li>0.15</li></ol>\n"
      ],
      "text/latex": [
       "\\begin{enumerate*}\n",
       "\\item 0.15\n",
       "\\item 0.24\n",
       "\\item 0.26\n",
       "\\item 0.2\n",
       "\\item 0.15\n",
       "\\end{enumerate*}\n"
      ],
      "text/markdown": [
       "1. 0.15\n",
       "2. 0.24\n",
       "3. 0.26\n",
       "4. 0.2\n",
       "5. 0.15\n",
       "\n",
       "\n"
      ],
      "text/plain": [
       "[1] 0.15 0.24 0.26 0.20 0.15"
      ]
     },
     "metadata": {},
     "output_type": "display_data"
    }
   ],
   "source": [
    "prior <- c(0.15, 0.24, 0.26, 0.2, 0.15); prior"
   ]
  },
  {
   "cell_type": "code",
   "execution_count": 20,
   "metadata": {},
   "outputs": [
    {
     "data": {
      "text/html": [
       "<style>\n",
       ".list-inline {list-style: none; margin:0; padding: 0}\n",
       ".list-inline>li {display: inline-block}\n",
       ".list-inline>li:not(:last-child)::after {content: \"\\00b7\"; padding: 0 .5ex}\n",
       "</style>\n",
       "<ol class=list-inline><li>0.58</li><li>0.52</li><li>0.04</li><li>0.4</li><li>0.35</li></ol>\n"
      ],
      "text/latex": [
       "\\begin{enumerate*}\n",
       "\\item 0.58\n",
       "\\item 0.52\n",
       "\\item 0.04\n",
       "\\item 0.4\n",
       "\\item 0.35\n",
       "\\end{enumerate*}\n"
      ],
      "text/markdown": [
       "1. 0.58\n",
       "2. 0.52\n",
       "3. 0.04\n",
       "4. 0.4\n",
       "5. 0.35\n",
       "\n",
       "\n"
      ],
      "text/plain": [
       "[1] 0.58 0.52 0.04 0.40 0.35"
      ]
     },
     "metadata": {},
     "output_type": "display_data"
    }
   ],
   "source": [
    "cond <- c(0.58, 0.52, 0.04, 0.4, 0.35); cond"
   ]
  },
  {
   "cell_type": "code",
   "execution_count": 21,
   "metadata": {},
   "outputs": [
    {
     "data": {
      "text/html": [
       "0.3547"
      ],
      "text/latex": [
       "0.3547"
      ],
      "text/markdown": [
       "0.3547"
      ],
      "text/plain": [
       "[1] 0.3547"
      ]
     },
     "metadata": {},
     "output_type": "display_data"
    }
   ],
   "source": [
    "# A 후보의 지지율\n",
    "tot <- sum(prior * cond); tot"
   ]
  },
  {
   "cell_type": "code",
   "execution_count": 22,
   "metadata": {},
   "outputs": [
    {
     "data": {
      "text/html": [
       "<style>\n",
       ".list-inline {list-style: none; margin:0; padding: 0}\n",
       ".list-inline>li {display: inline-block}\n",
       ".list-inline>li:not(:last-child)::after {content: \"\\00b7\"; padding: 0 .5ex}\n",
       "</style>\n",
       "<ol class=list-inline><li>870/3547</li><li>1248/3547</li><li>104/3547</li><li>800/3547</li><li>525/3547</li></ol>\n"
      ],
      "text/latex": [
       "\\begin{enumerate*}\n",
       "\\item 870/3547\n",
       "\\item 1248/3547\n",
       "\\item 104/3547\n",
       "\\item 800/3547\n",
       "\\item 525/3547\n",
       "\\end{enumerate*}\n"
      ],
      "text/markdown": [
       "1. 870/3547\n",
       "2. 1248/3547\n",
       "3. 104/3547\n",
       "4. 800/3547\n",
       "5. 525/3547\n",
       "\n",
       "\n"
      ],
      "text/plain": [
       "[1]  870/3547 1248/3547  104/3547  800/3547  525/3547"
      ]
     },
     "metadata": {},
     "output_type": "display_data"
    }
   ],
   "source": [
    "post <- as.fractions((prior*cond)/tot); post"
   ]
  },
  {
   "cell_type": "code",
   "execution_count": 23,
   "metadata": {},
   "outputs": [
    {
     "data": {
      "text/html": [
       "<table>\n",
       "<caption>A data.frame: 5 × 2</caption>\n",
       "<thead>\n",
       "\t<tr><th scope=col>age</th><th scope=col>post</th></tr>\n",
       "\t<tr><th scope=col>&lt;dbl&gt;</th><th scope=col>&lt;fractins&gt;</th></tr>\n",
       "</thead>\n",
       "<tbody>\n",
       "\t<tr><td>20</td><td>0.24527770</td></tr>\n",
       "\t<tr><td>30</td><td>0.35184663</td></tr>\n",
       "\t<tr><td>40</td><td>0.02932055</td></tr>\n",
       "\t<tr><td>50</td><td>0.22554271</td></tr>\n",
       "\t<tr><td>60</td><td>0.14801240</td></tr>\n",
       "</tbody>\n",
       "</table>\n"
      ],
      "text/latex": [
       "A data.frame: 5 × 2\n",
       "\\begin{tabular}{ll}\n",
       " age & post\\\\\n",
       " <dbl> & <fractins>\\\\\n",
       "\\hline\n",
       "\t 20 & 0.24527770\\\\\n",
       "\t 30 & 0.35184663\\\\\n",
       "\t 40 & 0.02932055\\\\\n",
       "\t 50 & 0.22554271\\\\\n",
       "\t 60 & 0.14801240\\\\\n",
       "\\end{tabular}\n"
      ],
      "text/markdown": [
       "\n",
       "A data.frame: 5 × 2\n",
       "\n",
       "| age &lt;dbl&gt; | post &lt;fractins&gt; |\n",
       "|---|---|\n",
       "| 20 | 0.24527770 |\n",
       "| 30 | 0.35184663 |\n",
       "| 40 | 0.02932055 |\n",
       "| 50 | 0.22554271 |\n",
       "| 60 | 0.14801240 |\n",
       "\n"
      ],
      "text/plain": [
       "  age post      \n",
       "1 20  0.24527770\n",
       "2 30  0.35184663\n",
       "3 40  0.02932055\n",
       "4 50  0.22554271\n",
       "5 60  0.14801240"
      ]
     },
     "metadata": {},
     "output_type": "display_data"
    }
   ],
   "source": [
    "# 지지자 연령대별 비율\n",
    "df = data.frame(age=age, post=post); df"
   ]
  },
  {
   "cell_type": "markdown",
   "metadata": {},
   "source": [
    "## 문제 5"
   ]
  },
  {
   "cell_type": "code",
   "execution_count": 24,
   "metadata": {},
   "outputs": [],
   "source": [
    "S <- rolldie(3)"
   ]
  },
  {
   "cell_type": "code",
   "execution_count": 26,
   "metadata": {},
   "outputs": [],
   "source": [
    "OneCount <- function(x) sum(x==1)"
   ]
  },
  {
   "cell_type": "code",
   "execution_count": 45,
   "metadata": {},
   "outputs": [],
   "source": [
    "X <- apply(S, 1, OneCount)"
   ]
  },
  {
   "cell_type": "code",
   "execution_count": 48,
   "metadata": {},
   "outputs": [],
   "source": [
    "freq <- table(X)"
   ]
  },
  {
   "cell_type": "code",
   "execution_count": 49,
   "metadata": {},
   "outputs": [],
   "source": [
    "prob <- freq/length(X) "
   ]
  },
  {
   "cell_type": "code",
   "execution_count": 51,
   "metadata": {},
   "outputs": [
    {
     "data": {
      "text/plain": [
       "X\n",
       "      0       1       2       3 \n",
       "125/216   25/72    5/72   1/216 "
      ]
     },
     "metadata": {},
     "output_type": "display_data"
    }
   ],
   "source": [
    "as.fractions(prob)"
   ]
  },
  {
   "cell_type": "code",
   "execution_count": 58,
   "metadata": {},
   "outputs": [
    {
     "data": {
      "image/png": "[encoded data removed]",
      "text/plain": [
       "Plot with title \"주사위를 3번 던졌을 때 눈 1의 등장회수에 대한 확률분포\""
      ]
     },
     "metadata": {
      "image/png": {
       "height": 420,
       "width": 420
      },
      "text/plain": {
       "height": 420,
       "width": 420
      }
     },
     "output_type": "display_data"
    }
   ],
   "source": [
    "plot(prob, main=\"주사위를 3번 던졌을 때 눈 1의 등장회수에 대한 확률분포\", \n",
    "     xlab=\"눈 1의 수\",\n",
    "     ylab=\"상대도수\", \n",
    "     type=\"h\",\n",
    "     col=\"Orange\", ylim=c(0, max(prob)+0.01), lwd=4)"
   ]
  },
  {
   "cell_type": "markdown",
   "metadata": {},
   "source": [
    "## 문제6"
   ]
  },
  {
   "cell_type": "code",
   "execution_count": 76,
   "metadata": {},
   "outputs": [
    {
     "data": {
      "text/plain": [
       "1 with absolute error < 1.1e-14"
      ]
     },
     "metadata": {},
     "output_type": "display_data"
    }
   ],
   "source": [
    "c = 1/36\n",
    "fx <- function(x) {c*(9-x^2)}\n",
    "\n",
    "integrate(fx, -3, 3)"
   ]
  },
  {
   "cell_type": "code",
   "execution_count": 85,
   "metadata": {},
   "outputs": [
    {
     "data": {
      "text/html": [
       "0.0740740740740742"
      ],
      "text/latex": [
       "0.0740740740740742"
      ],
      "text/markdown": [
       "0.0740740740740742"
      ],
      "text/plain": [
       "[1] 0.07407407"
      ]
     },
     "metadata": {},
     "output_type": "display_data"
    }
   ],
   "source": [
    "# P(X>=2)  == 1 - P(-3<x<2)\n",
    "1 - integrate(fx,-3, 2)$value"
   ]
  },
  {
   "cell_type": "markdown",
   "metadata": {},
   "source": [
    "## 문제7"
   ]
  },
  {
   "cell_type": "code",
   "execution_count": 161,
   "metadata": {},
   "outputs": [],
   "source": [
    "S <- rolldie(2, makespace =TRUE)"
   ]
  },
  {
   "cell_type": "code",
   "execution_count": 186,
   "metadata": {},
   "outputs": [
    {
     "data": {
      "text/plain": [
       "X\n",
       "   2    3    4    5    6    7    8    9   10   11   12 \n",
       "1/36 1/18 1/12  1/9 5/36  1/6 5/36  1/9 1/12 1/18 1/36 "
      ]
     },
     "metadata": {},
     "output_type": "display_data"
    }
   ],
   "source": [
    "# (1)\n",
    "X <- S$X1 + S$X2\n",
    "freq <- table(X)\n",
    "prob <- freq/length(X)\n",
    "Xt <- as.fractions(prob)\n",
    "Xt"
   ]
  },
  {
   "cell_type": "code",
   "execution_count": 187,
   "metadata": {},
   "outputs": [
    {
     "data": {
      "text/plain": [
       "Y\n",
       "   0    1    2    3    4    5 \n",
       " 1/6 5/18  2/9  1/6  1/9 1/18 "
      ]
     },
     "metadata": {},
     "output_type": "display_data"
    }
   ],
   "source": [
    "# (2)\n",
    "Y <- abs(S$X1 - S$X2)\n",
    "freq <- table(Y)\n",
    "prob <- freq/length(Y)\n",
    "Yt <- as.fractions(prob)\n",
    "Yt"
   ]
  },
  {
   "cell_type": "code",
   "execution_count": 217,
   "metadata": {
    "scrolled": true
   },
   "outputs": [
    {
     "data": {
      "text/html": [
       "<table>\n",
       "<caption>A matrix: 11 × 6 of type dbl</caption>\n",
       "<thead>\n",
       "\t<tr><th></th><th scope=col>0</th><th scope=col>1</th><th scope=col>2</th><th scope=col>3</th><th scope=col>4</th><th scope=col>5</th></tr>\n",
       "</thead>\n",
       "<tbody>\n",
       "\t<tr><th scope=row>2</th><td>0.004629630</td><td>0.007716049</td><td>0.00617284</td><td>0.004629630</td><td>0.003086420</td><td>0.001543210</td></tr>\n",
       "\t<tr><th scope=row>3</th><td>0.009259259</td><td>0.015432099</td><td>0.01234568</td><td>0.009259259</td><td>0.006172840</td><td>0.003086420</td></tr>\n",
       "\t<tr><th scope=row>4</th><td>0.013888889</td><td>0.023148148</td><td>0.01851852</td><td>0.013888889</td><td>0.009259259</td><td>0.004629630</td></tr>\n",
       "\t<tr><th scope=row>5</th><td>0.018518519</td><td>0.030864198</td><td>0.02469136</td><td>0.018518519</td><td>0.012345679</td><td>0.006172840</td></tr>\n",
       "\t<tr><th scope=row>6</th><td>0.023148148</td><td>0.038580247</td><td>0.03086420</td><td>0.023148148</td><td>0.015432099</td><td>0.007716049</td></tr>\n",
       "\t<tr><th scope=row>7</th><td>0.027777778</td><td>0.046296296</td><td>0.03703704</td><td>0.027777778</td><td>0.018518519</td><td>0.009259259</td></tr>\n",
       "\t<tr><th scope=row>8</th><td>0.023148148</td><td>0.038580247</td><td>0.03086420</td><td>0.023148148</td><td>0.015432099</td><td>0.007716049</td></tr>\n",
       "\t<tr><th scope=row>9</th><td>0.018518519</td><td>0.030864198</td><td>0.02469136</td><td>0.018518519</td><td>0.012345679</td><td>0.006172840</td></tr>\n",
       "\t<tr><th scope=row>10</th><td>0.013888889</td><td>0.023148148</td><td>0.01851852</td><td>0.013888889</td><td>0.009259259</td><td>0.004629630</td></tr>\n",
       "\t<tr><th scope=row>11</th><td>0.009259259</td><td>0.015432099</td><td>0.01234568</td><td>0.009259259</td><td>0.006172840</td><td>0.003086420</td></tr>\n",
       "\t<tr><th scope=row>12</th><td>0.004629630</td><td>0.007716049</td><td>0.00617284</td><td>0.004629630</td><td>0.003086420</td><td>0.001543210</td></tr>\n",
       "</tbody>\n",
       "</table>\n"
      ],
      "text/latex": [
       "A matrix: 11 × 6 of type dbl\n",
       "\\begin{tabular}{r|llllll}\n",
       "  & 0 & 1 & 2 & 3 & 4 & 5\\\\\n",
       "\\hline\n",
       "\t2 & 0.004629630 & 0.007716049 & 0.00617284 & 0.004629630 & 0.003086420 & 0.001543210\\\\\n",
       "\t3 & 0.009259259 & 0.015432099 & 0.01234568 & 0.009259259 & 0.006172840 & 0.003086420\\\\\n",
       "\t4 & 0.013888889 & 0.023148148 & 0.01851852 & 0.013888889 & 0.009259259 & 0.004629630\\\\\n",
       "\t5 & 0.018518519 & 0.030864198 & 0.02469136 & 0.018518519 & 0.012345679 & 0.006172840\\\\\n",
       "\t6 & 0.023148148 & 0.038580247 & 0.03086420 & 0.023148148 & 0.015432099 & 0.007716049\\\\\n",
       "\t7 & 0.027777778 & 0.046296296 & 0.03703704 & 0.027777778 & 0.018518519 & 0.009259259\\\\\n",
       "\t8 & 0.023148148 & 0.038580247 & 0.03086420 & 0.023148148 & 0.015432099 & 0.007716049\\\\\n",
       "\t9 & 0.018518519 & 0.030864198 & 0.02469136 & 0.018518519 & 0.012345679 & 0.006172840\\\\\n",
       "\t10 & 0.013888889 & 0.023148148 & 0.01851852 & 0.013888889 & 0.009259259 & 0.004629630\\\\\n",
       "\t11 & 0.009259259 & 0.015432099 & 0.01234568 & 0.009259259 & 0.006172840 & 0.003086420\\\\\n",
       "\t12 & 0.004629630 & 0.007716049 & 0.00617284 & 0.004629630 & 0.003086420 & 0.001543210\\\\\n",
       "\\end{tabular}\n"
      ],
      "text/markdown": [
       "\n",
       "A matrix: 11 × 6 of type dbl\n",
       "\n",
       "| <!--/--> | 0 | 1 | 2 | 3 | 4 | 5 |\n",
       "|---|---|---|---|---|---|---|\n",
       "| 2 | 0.004629630 | 0.007716049 | 0.00617284 | 0.004629630 | 0.003086420 | 0.001543210 |\n",
       "| 3 | 0.009259259 | 0.015432099 | 0.01234568 | 0.009259259 | 0.006172840 | 0.003086420 |\n",
       "| 4 | 0.013888889 | 0.023148148 | 0.01851852 | 0.013888889 | 0.009259259 | 0.004629630 |\n",
       "| 5 | 0.018518519 | 0.030864198 | 0.02469136 | 0.018518519 | 0.012345679 | 0.006172840 |\n",
       "| 6 | 0.023148148 | 0.038580247 | 0.03086420 | 0.023148148 | 0.015432099 | 0.007716049 |\n",
       "| 7 | 0.027777778 | 0.046296296 | 0.03703704 | 0.027777778 | 0.018518519 | 0.009259259 |\n",
       "| 8 | 0.023148148 | 0.038580247 | 0.03086420 | 0.023148148 | 0.015432099 | 0.007716049 |\n",
       "| 9 | 0.018518519 | 0.030864198 | 0.02469136 | 0.018518519 | 0.012345679 | 0.006172840 |\n",
       "| 10 | 0.013888889 | 0.023148148 | 0.01851852 | 0.013888889 | 0.009259259 | 0.004629630 |\n",
       "| 11 | 0.009259259 | 0.015432099 | 0.01234568 | 0.009259259 | 0.006172840 | 0.003086420 |\n",
       "| 12 | 0.004629630 | 0.007716049 | 0.00617284 | 0.004629630 | 0.003086420 | 0.001543210 |\n",
       "\n"
      ],
      "text/plain": [
       "   0           1           2          3           4           5          \n",
       "2  0.004629630 0.007716049 0.00617284 0.004629630 0.003086420 0.001543210\n",
       "3  0.009259259 0.015432099 0.01234568 0.009259259 0.006172840 0.003086420\n",
       "4  0.013888889 0.023148148 0.01851852 0.013888889 0.009259259 0.004629630\n",
       "5  0.018518519 0.030864198 0.02469136 0.018518519 0.012345679 0.006172840\n",
       "6  0.023148148 0.038580247 0.03086420 0.023148148 0.015432099 0.007716049\n",
       "7  0.027777778 0.046296296 0.03703704 0.027777778 0.018518519 0.009259259\n",
       "8  0.023148148 0.038580247 0.03086420 0.023148148 0.015432099 0.007716049\n",
       "9  0.018518519 0.030864198 0.02469136 0.018518519 0.012345679 0.006172840\n",
       "10 0.013888889 0.023148148 0.01851852 0.013888889 0.009259259 0.004629630\n",
       "11 0.009259259 0.015432099 0.01234568 0.009259259 0.006172840 0.003086420\n",
       "12 0.004629630 0.007716049 0.00617284 0.004629630 0.003086420 0.001543210"
      ]
     },
     "metadata": {},
     "output_type": "display_data"
    }
   ],
   "source": [
    "# (3) 확률변수 X와 Y의 결합확률분포를 구하시오. \n",
    "as.matrix(Xt) %*% t(as.matrix(Yt))"
   ]
  },
  {
   "cell_type": "code",
   "execution_count": null,
   "metadata": {},
   "outputs": [],
   "source": []
  }
 ],
 "metadata": {
  "kernelspec": {
   "display_name": "R",
   "language": "R",
   "name": "ir"
  },
  "language_info": {
   "codemirror_mode": "r",
   "file_extension": ".r",
   "mimetype": "text/x-r-source",
   "name": "R",
   "pygments_lexer": "r",
   "version": "3.6.1"
  }
 },
 "nbformat": 4,
 "nbformat_minor": 2
}
